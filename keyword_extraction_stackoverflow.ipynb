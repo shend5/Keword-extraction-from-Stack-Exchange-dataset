{
 "cells": [
  {
   "cell_type": "markdown",
   "metadata": {
    "colab_type": "text",
    "id": "GM70NjWpxA_z"
   },
   "source": [
    "# Data Mining Project\n",
    "\n"
   ]
  },
  {
   "cell_type": "markdown",
   "metadata": {
    "colab_type": "text",
    "id": "YOhSyneQxA_0"
   },
   "source": [
    "Full description of the project is [here](https://www.kaggle.com/c/facebook-recruiting-iii-keyword-extraction/overview)"
   ]
  },
  {
   "cell_type": "markdown",
   "metadata": {
    "colab_type": "text",
    "id": "OHv_3bllzE48"
   },
   "source": [
    "The task is to predict the tags (a.k.a. keywords, topics, summaries), given only the question text and its title.\n",
    "The dataset contains content from disparate stack exchange sites, containing a mix of both technical and non-technical questions.\n",
    "The dataset contains large data, from stack exchange sites."
   ]
  },
  {
   "cell_type": "code",
   "execution_count": 1,
   "metadata": {
    "colab": {},
    "colab_type": "code",
    "id": "pOQkNxZexA_1"
   },
   "outputs": [],
   "source": [
    "import os\n",
    "import csv\n",
    "import pandas as pd\n",
    "import numpy as np\n",
    "import matplotlib.pyplot as plt\n",
    "import nltk\n",
    "from nltk.corpus import stopwords\n",
    "from nltk.stem.snowball import EnglishStemmer as english_stemmer\n",
    "from sklearn.model_selection import train_test_split\n",
    "from sklearn.feature_extraction.text import TfidfVectorizer\n",
    "import re\n",
    "import sys\n",
    "import warnings\n",
    "import collections\n",
    "import pickle"
   ]
  },
  {
   "cell_type": "markdown",
   "metadata": {
    "colab_type": "text",
    "id": "h0Zg8yMIxA_4"
   },
   "source": [
    "## Exploring the Dataset"
   ]
  },
  {
   "cell_type": "code",
   "execution_count": 2,
   "metadata": {
    "colab": {},
    "colab_type": "code",
    "id": "SFRtaY86xA_4"
   },
   "outputs": [],
   "source": [
    "train_dataset = pd.read_csv('Train.csv')"
   ]
  },
  {
   "cell_type": "markdown",
   "metadata": {
    "colab_type": "text",
    "id": "D08MuwRTxA_7"
   },
   "source": [
    "We got more than 6 milion rows(more than 6 milion questions asked on stackexchange). There are some duplicates."
   ]
  },
  {
   "cell_type": "code",
   "execution_count": 4,
   "metadata": {
    "colab": {
     "base_uri": "https://localhost:8080/",
     "height": 51
    },
    "colab_type": "code",
    "id": "o6-Fk3BvxA_7",
    "outputId": "3d18c7fe-6eff-41b1-a188-1d0cf2d7e159"
   },
   "outputs": [
    {
     "name": "stdout",
     "output_type": "stream",
     "text": [
      "Number of rows and columns for train dataset:  (6034195, 4)\n",
      "Number of rows and columns for test dataset:  (2013337, 3)\n"
     ]
    }
   ],
   "source": [
    "print(\"Number of rows and columns for train dataset: \", train_dataset.shape)\n",
    "print(\"Number of rows and columns for test dataset: \", test_dataset.shape)"
   ]
  },
  {
   "cell_type": "markdown",
   "metadata": {
    "colab_type": "text",
    "id": "8ZjgfKMCxA_-"
   },
   "source": [
    "The Id field is uniqe. The tags are the labels."
   ]
  },
  {
   "cell_type": "code",
   "execution_count": 5,
   "metadata": {
    "colab": {
     "base_uri": "https://localhost:8080/",
     "height": 51
    },
    "colab_type": "code",
    "id": "jwQxJMVixA__",
    "outputId": "153774f4-fa77-408d-b37e-53e444142e01",
    "scrolled": true
   },
   "outputs": [
    {
     "name": "stdout",
     "output_type": "stream",
     "text": [
      "Columns of train dataset:  Index(['Id', 'Title', 'Body', 'Tags'], dtype='object')\n",
      "Columns of test dataset:  Index(['Id', 'Title', 'Body'], dtype='object')\n"
     ]
    }
   ],
   "source": [
    "print(\"Columns of train dataset: \", train_dataset.columns)\n",
    "print(\"Columns of test dataset: \", test_dataset.columns)"
   ]
  },
  {
   "cell_type": "markdown",
   "metadata": {
    "colab_type": "text",
    "id": "8H5kI7YA9DCo"
   },
   "source": [
    "Let's see the first 10 rows for the train dataset:"
   ]
  },
  {
   "cell_type": "code",
   "execution_count": 6,
   "metadata": {
    "colab": {
     "base_uri": "https://localhost:8080/",
     "height": 529
    },
    "colab_type": "code",
    "id": "lMddwZdo9Bus",
    "outputId": "1e28e167-4670-4ea3-e4c3-2fe3c7462b62"
   },
   "outputs": [
    {
     "data": {
      "text/html": [
       "<div>\n",
       "<style scoped>\n",
       "    .dataframe tbody tr th:only-of-type {\n",
       "        vertical-align: middle;\n",
       "    }\n",
       "\n",
       "    .dataframe tbody tr th {\n",
       "        vertical-align: top;\n",
       "    }\n",
       "\n",
       "    .dataframe thead th {\n",
       "        text-align: right;\n",
       "    }\n",
       "</style>\n",
       "<table border=\"1\" class=\"dataframe\">\n",
       "  <thead>\n",
       "    <tr style=\"text-align: right;\">\n",
       "      <th></th>\n",
       "      <th>Id</th>\n",
       "      <th>Title</th>\n",
       "      <th>Body</th>\n",
       "      <th>Tags</th>\n",
       "    </tr>\n",
       "  </thead>\n",
       "  <tbody>\n",
       "    <tr>\n",
       "      <td>0</td>\n",
       "      <td>1</td>\n",
       "      <td>How to check if an uploaded file is an image w...</td>\n",
       "      <td>&lt;p&gt;I'd like to check if an uploaded file is an...</td>\n",
       "      <td>php image-processing file-upload upload mime-t...</td>\n",
       "    </tr>\n",
       "    <tr>\n",
       "      <td>1</td>\n",
       "      <td>2</td>\n",
       "      <td>How can I prevent firefox from closing when I ...</td>\n",
       "      <td>&lt;p&gt;In my favorite editor (vim), I regularly us...</td>\n",
       "      <td>firefox</td>\n",
       "    </tr>\n",
       "    <tr>\n",
       "      <td>2</td>\n",
       "      <td>3</td>\n",
       "      <td>R Error Invalid type (list) for variable</td>\n",
       "      <td>&lt;p&gt;I am import matlab file and construct a dat...</td>\n",
       "      <td>r matlab machine-learning</td>\n",
       "    </tr>\n",
       "    <tr>\n",
       "      <td>3</td>\n",
       "      <td>4</td>\n",
       "      <td>How do I replace special characters in a URL?</td>\n",
       "      <td>&lt;p&gt;This is probably very simple, but I simply ...</td>\n",
       "      <td>c# url encoding</td>\n",
       "    </tr>\n",
       "    <tr>\n",
       "      <td>4</td>\n",
       "      <td>5</td>\n",
       "      <td>How to modify whois contact details?</td>\n",
       "      <td>&lt;pre&gt;&lt;code&gt;function modify(.......)\\n{\\n  $mco...</td>\n",
       "      <td>php api file-get-contents</td>\n",
       "    </tr>\n",
       "    <tr>\n",
       "      <td>5</td>\n",
       "      <td>6</td>\n",
       "      <td>setting proxy in active directory environment</td>\n",
       "      <td>&lt;p&gt;I am using a machine on which active direct...</td>\n",
       "      <td>proxy active-directory jmeter</td>\n",
       "    </tr>\n",
       "    <tr>\n",
       "      <td>6</td>\n",
       "      <td>7</td>\n",
       "      <td>How to draw barplot in this way with Coreplot</td>\n",
       "      <td>&lt;p&gt;My image is cannot post so  the link is my ...</td>\n",
       "      <td>core-plot</td>\n",
       "    </tr>\n",
       "    <tr>\n",
       "      <td>7</td>\n",
       "      <td>8</td>\n",
       "      <td>How to fetch an XML feed using asp.net</td>\n",
       "      <td>&lt;p&gt;I've decided to convert a Windows Phone 7 a...</td>\n",
       "      <td>c# asp.net windows-phone-7</td>\n",
       "    </tr>\n",
       "    <tr>\n",
       "      <td>8</td>\n",
       "      <td>9</td>\n",
       "      <td>.NET library for generating javascript?</td>\n",
       "      <td>&lt;p&gt;Do you know of a .NET library for generatin...</td>\n",
       "      <td>.net javascript code-generation</td>\n",
       "    </tr>\n",
       "    <tr>\n",
       "      <td>9</td>\n",
       "      <td>10</td>\n",
       "      <td>SQL Server : procedure call, inline concatenat...</td>\n",
       "      <td>&lt;p&gt;I'm using SQL Server 2008 R2 and was wonder...</td>\n",
       "      <td>sql variables parameters procedure calls</td>\n",
       "    </tr>\n",
       "  </tbody>\n",
       "</table>\n",
       "</div>"
      ],
      "text/plain": [
       "   Id                                              Title  \\\n",
       "0   1  How to check if an uploaded file is an image w...   \n",
       "1   2  How can I prevent firefox from closing when I ...   \n",
       "2   3           R Error Invalid type (list) for variable   \n",
       "3   4      How do I replace special characters in a URL?   \n",
       "4   5               How to modify whois contact details?   \n",
       "5   6      setting proxy in active directory environment   \n",
       "6   7      How to draw barplot in this way with Coreplot   \n",
       "7   8             How to fetch an XML feed using asp.net   \n",
       "8   9            .NET library for generating javascript?   \n",
       "9  10  SQL Server : procedure call, inline concatenat...   \n",
       "\n",
       "                                                Body  \\\n",
       "0  <p>I'd like to check if an uploaded file is an...   \n",
       "1  <p>In my favorite editor (vim), I regularly us...   \n",
       "2  <p>I am import matlab file and construct a dat...   \n",
       "3  <p>This is probably very simple, but I simply ...   \n",
       "4  <pre><code>function modify(.......)\\n{\\n  $mco...   \n",
       "5  <p>I am using a machine on which active direct...   \n",
       "6  <p>My image is cannot post so  the link is my ...   \n",
       "7  <p>I've decided to convert a Windows Phone 7 a...   \n",
       "8  <p>Do you know of a .NET library for generatin...   \n",
       "9  <p>I'm using SQL Server 2008 R2 and was wonder...   \n",
       "\n",
       "                                                Tags  \n",
       "0  php image-processing file-upload upload mime-t...  \n",
       "1                                            firefox  \n",
       "2                          r matlab machine-learning  \n",
       "3                                    c# url encoding  \n",
       "4                          php api file-get-contents  \n",
       "5                      proxy active-directory jmeter  \n",
       "6                                          core-plot  \n",
       "7                         c# asp.net windows-phone-7  \n",
       "8                    .net javascript code-generation  \n",
       "9           sql variables parameters procedure calls  "
      ]
     },
     "execution_count": 6,
     "metadata": {},
     "output_type": "execute_result"
    }
   ],
   "source": [
    "train_dataset[:10]"
   ]
  },
  {
   "cell_type": "markdown",
   "metadata": {
    "colab_type": "text",
    "id": "OEwXFDnhBNr3"
   },
   "source": [
    "We check if we have any questions of the dataset that do not contain any content at all:\n"
   ]
  },
  {
   "cell_type": "code",
   "execution_count": 7,
   "metadata": {
    "colab": {
     "base_uri": "https://localhost:8080/",
     "height": 102
    },
    "colab_type": "code",
    "id": "OmDuI7nzBJUi",
    "outputId": "013bcd81-93ec-4ce8-f369-cea81231c396"
   },
   "outputs": [
    {
     "data": {
      "text/plain": [
       "Id       0\n",
       "Title    0\n",
       "Body     0\n",
       "Tags     8\n",
       "dtype: int64"
      ]
     },
     "execution_count": 7,
     "metadata": {},
     "output_type": "execute_result"
    }
   ],
   "source": [
    "train_dataset.isnull().sum()"
   ]
  },
  {
   "cell_type": "markdown",
   "metadata": {
    "colab_type": "text",
    "id": "hwKjC4-IBcjH"
   },
   "source": [
    "We see that we have 8 values of Tags columns that are Null. We want to remove them. Let's find their indexes:"
   ]
  },
  {
   "cell_type": "code",
   "execution_count": 8,
   "metadata": {
    "colab": {
     "base_uri": "https://localhost:8080/",
     "height": 34
    },
    "colab_type": "code",
    "id": "b-W6khqSAkaS",
    "outputId": "d892f30d-530b-40b8-a604-62ce6a09c142"
   },
   "outputs": [
    {
     "data": {
      "text/plain": [
       "[895318, 1030863, 1467813, 1927902, 2614271, 3196708, 4144270, 4391252]"
      ]
     },
     "execution_count": 8,
     "metadata": {},
     "output_type": "execute_result"
    }
   ],
   "source": [
    "train_dataset[train_dataset['Tags'].isnull()].index.tolist()"
   ]
  },
  {
   "cell_type": "code",
   "execution_count": 9,
   "metadata": {
    "colab": {},
    "colab_type": "code",
    "id": "A-xVNiDLF1fy"
   },
   "outputs": [],
   "source": [
    "train_dataset.drop([895318, 1030863, 1467813, 1927902, 2614271, 3196708, 4144270, 4391252], inplace=True) # Remove all these rows where the Tags column was empty."
   ]
  },
  {
   "cell_type": "markdown",
   "metadata": {
    "colab_type": "text",
    "id": "z00Kkcx8CKPj"
   },
   "source": [
    "Verify that we got no empty column values on tags:"
   ]
  },
  {
   "cell_type": "code",
   "execution_count": 10,
   "metadata": {
    "colab": {
     "base_uri": "https://localhost:8080/",
     "height": 102
    },
    "colab_type": "code",
    "id": "ge-eWHs7CFm5",
    "outputId": "e484bf86-20d5-4aa3-f0cc-734966a1ba7f"
   },
   "outputs": [
    {
     "data": {
      "text/plain": [
       "Id       0\n",
       "Title    0\n",
       "Body     0\n",
       "Tags     0\n",
       "dtype: int64"
      ]
     },
     "execution_count": 10,
     "metadata": {},
     "output_type": "execute_result"
    }
   ],
   "source": [
    "train_dataset.isnull().sum()"
   ]
  },
  {
   "cell_type": "markdown",
   "metadata": {
    "colab_type": "text",
    "id": "VG2I0K7AxBAB"
   },
   "source": [
    "We save all the unique labels of the dataset in dictionary tags_on_dataset, where the key will be a tag and the value will be the number of times it apperas on the dataset."
   ]
  },
  {
   "cell_type": "code",
   "execution_count": 11,
   "metadata": {
    "colab": {},
    "colab_type": "code",
    "id": "kOiuhzXmIB1Z"
   },
   "outputs": [],
   "source": [
    "tags_on_dataset = {}\n",
    "for index, row in train_dataset.iterrows():\n",
    "    tag_list = row['Tags'].split(\" \")\n",
    "    for element in tag_list:\n",
    "        if element not in tags_on_dataset:\n",
    "            tags_on_dataset[element] = 1\n",
    "        else:\n",
    "            tags_on_dataset[element] += 1"
   ]
  },
  {
   "cell_type": "code",
   "execution_count": 12,
   "metadata": {
    "colab": {
     "base_uri": "https://localhost:8080/",
     "height": 1000
    },
    "colab_type": "code",
    "id": "6RyHca1qCqv5",
    "outputId": "d1c8ef0c-db4c-4ca6-f5b1-8643209b783c"
   },
   "outputs": [
    {
     "data": {
      "text/plain": [
       "{'php': 392451,\n",
       " 'image-processing': 9843,\n",
       " 'file-upload': 9409,\n",
       " 'upload': 6048,\n",
       " 'mime-types': 1312,\n",
       " 'firefox': 21427,\n",
       " 'r': 26863,\n",
       " 'matlab': 18149,\n",
       " 'machine-learning': 3033,\n",
       " 'c#': 463526,\n",
       " 'url': 15163,\n",
       " 'encoding': 8167,\n",
       " 'api': 22037,\n",
       " 'file-get-contents': 736,\n",
       " 'proxy': 9179,\n",
       " 'active-directory': 12460,\n",
       " 'jmeter': 1188,\n",
       " 'core-plot': 1071,\n",
       " 'asp.net': 177334,\n",
       " 'windows-phone-7': 17245,\n",
       " '.net': 162359,\n",
       " 'javascript': 365623,\n",
       " 'code-generation': 1950,\n",
       " 'sql': 132465,\n",
       " 'variables': 13871,\n",
       " 'parameters': 6022,\n",
       " 'procedure': 469,\n",
       " 'calls': 107,\n",
       " 'obfuscation': 1312,\n",
       " 'reflector': 199,\n",
       " 'algorithm': 29773,\n",
       " 'language-agnostic': 7198,\n",
       " 'random': 7405,\n",
       " 'postfix': 4598,\n",
       " 'migration': 5097,\n",
       " 'mdaemon': 31,\n",
       " 'documentation': 5444,\n",
       " 'latex3': 197,\n",
       " 'expl3': 150,\n",
       " 'windows-7': 58487,\n",
       " 'url-routing': 1796,\n",
       " 'conventions': 546,\n",
       " 'temporary-files': 317,\n",
       " 'wpf': 65836,\n",
       " 'binding': 7755,\n",
       " 'playframework': 4144,\n",
       " 'minify': 618,\n",
       " 'xml': 64157,\n",
       " 'hash': 6762,\n",
       " 'multidimensional-array': 5783,\n",
       " 'simplexml-load-string': 95,\n",
       " 'medical-science': 1136,\n",
       " 'cancer': 117,\n",
       " 'healthcare': 30,\n",
       " 'linq': 29543,\n",
       " 'actionscript-3': 27111,\n",
       " 'flex': 22248,\n",
       " 'flex3': 2880,\n",
       " 'iis': 18552,\n",
       " 'string': 37802,\n",
       " 'enumeration': 684,\n",
       " 'haskell': 11298,\n",
       " 'visual-studio': 30148,\n",
       " 'makefile': 3785,\n",
       " 'gnu': 1145,\n",
       " 'html': 165507,\n",
       " 'semantic': 827,\n",
       " 'line-breaks': 650,\n",
       " 'c++': 199280,\n",
       " 'gcc': 10776,\n",
       " 'stl': 6070,\n",
       " 'bounds-checker': 17,\n",
       " 'sharepoint': 15701,\n",
       " 'caml': 450,\n",
       " 'custom-fields': 393,\n",
       " 'css': 129107,\n",
       " 'jquery-ui': 21395,\n",
       " 'asp.net-mvc-4': 6558,\n",
       " 'bundle': 1495,\n",
       " 'asp.net-optimization': 79,\n",
       " 'entity-framework-4': 6854,\n",
       " 'visual-studio-2008': 15500,\n",
       " '.net-2.0': 2404,\n",
       " 'monodroid': 1814,\n",
       " 'apk': 1219,\n",
       " 'mvvm': 8336,\n",
       " 'homework': 32535,\n",
       " 'calculus': 15679,\n",
       " 'polar-coordinates': 386,\n",
       " 'netcat': 380,\n",
       " 'maintenance': 1037,\n",
       " 'java': 412189,\n",
       " 'path': 5960,\n",
       " 'system': 2442,\n",
       " 'python': 184928,\n",
       " 'strong-typing': 210,\n",
       " 'iphone': 183573,\n",
       " 'xcode': 52513,\n",
       " 'safari': 5518,\n",
       " 'linux': 127606,\n",
       " 'apache2': 27619,\n",
       " 'joomla': 6926,\n",
       " 'jquery': 305614,\n",
       " 'json': 43451,\n",
       " 'attributes': 4843,\n",
       " 'each': 1038,\n",
       " 'mfc': 5462,\n",
       " 'midi': 687,\n",
       " 'comm': 64,\n",
       " 'data-uri': 125,\n",
       " 'ssl': 13545,\n",
       " 'https': 7332,\n",
       " 'android': 320622,\n",
       " 'android-ndk': 3915,\n",
       " 'android-source': 454,\n",
       " 'ios': 136080,\n",
       " 'upgrade': 3804,\n",
       " 'ios4.3': 313,\n",
       " 'iphone-3gs': 99,\n",
       " 'asp.net-mvc': 57859,\n",
       " 'design': 14833,\n",
       " 'modelstate': 172,\n",
       " 'service-layer': 192,\n",
       " 'page-breaking': 1101,\n",
       " 'theorems': 680,\n",
       " 'unit-testing': 19166,\n",
       " 'testing': 13805,\n",
       " 'theory': 1115,\n",
       " 'real-analysis': 14853,\n",
       " 'analysis': 7588,\n",
       " 'measure-theory': 5032,\n",
       " 'emacs': 10469,\n",
       " 'mac': 11698,\n",
       " 'keyboard-shortcuts': 5305,\n",
       " 'customization': 3702,\n",
       " 'ntfs': 2502,\n",
       " 'filenames': 1712,\n",
       " 'oracle': 29382,\n",
       " 'reporting-services': 7045,\n",
       " 'plsql': 5092,\n",
       " 'visual-studio-2010': 34433,\n",
       " 'plugins': 15560,\n",
       " 'rtsp': 675,\n",
       " 'vlc': 1497,\n",
       " 'powershell': 13518,\n",
       " 'tfs': 5574,\n",
       " 'annotations': 3955,\n",
       " 'exception-handling': 6312,\n",
       " 'winforms': 37370,\n",
       " 'twitter': 8189,\n",
       " 'twitter-api': 3195,\n",
       " 'centos': 13523,\n",
       " 'backup': 11309,\n",
       " 'shell': 22309,\n",
       " 'cron': 6244,\n",
       " 'asp.net-profiles': 175,\n",
       " 'listbox': 4093,\n",
       " 'entity-framework': 23978,\n",
       " 'eclipse': 44092,\n",
       " 'run': 793,\n",
       " 'asp.net-mvc-3': 34422,\n",
       " 'security': 34499,\n",
       " 'mvc': 15325,\n",
       " 'silverlight': 26932,\n",
       " 'session': 14695,\n",
       " 'isolatedstorage': 529,\n",
       " 'jquery-mobile': 10909,\n",
       " 'event-handling': 4484,\n",
       " 'click': 3371,\n",
       " 'anchor': 1791,\n",
       " 'temporal-database': 39,\n",
       " 'temporal': 50,\n",
       " 'temporal-difference': 9,\n",
       " 'jsp': 17012,\n",
       " 'session-state': 1094,\n",
       " 'facebook': 43393,\n",
       " 'wordpress': 30556,\n",
       " 'javascript-events': 8486,\n",
       " 'prototypejs': 2371,\n",
       " 'counters': 465,\n",
       " 'loops': 11494,\n",
       " 'version-control': 9651,\n",
       " 'mercurial': 6103,\n",
       " 'encryption': 11417,\n",
       " 'cmake': 2358,\n",
       " 'ubuntu': 43002,\n",
       " 'ubuntu-10.04': 3816,\n",
       " 'internet-security': 82,\n",
       " 'servlets': 11350,\n",
       " 'tomcat7': 1477,\n",
       " 'ruby': 73502,\n",
       " 'wsdl': 3574,\n",
       " 'axis2': 1435,\n",
       " 'savon': 189,\n",
       " 'bash': 33116,\n",
       " 'ftp': 8966,\n",
       " 'iptables': 5087,\n",
       " 'osx': 51812,\n",
       " 'application': 10553,\n",
       " 'osx-mountain-lion': 1515,\n",
       " 'launch-services': 20,\n",
       " 'css3': 13332,\n",
       " 'webkit': 4201,\n",
       " 'scrollbar': 2152,\n",
       " 'pseudo-class': 228,\n",
       " 'transition': 815,\n",
       " 'effect': 510,\n",
       " 'libssh': 48,\n",
       " 'castle-windsor': 1804,\n",
       " 'f#': 4964,\n",
       " 'boolean': 2236,\n",
       " 'warnings': 2284,\n",
       " 'c': 95453,\n",
       " 'pointers': 11310,\n",
       " 'xslt': 12785,\n",
       " 'thread-safety': 3437,\n",
       " 'mex': 340,\n",
       " 'struts-1': 418,\n",
       " 'inequality': 3171,\n",
       " 'limit': 5566,\n",
       " 'functional-equations': 612,\n",
       " 'excel': 24025,\n",
       " 'table': 13730,\n",
       " 'disk': 1671,\n",
       " 'directory': 4634,\n",
       " 'io': 5250,\n",
       " 'java-ee': 13579,\n",
       " 'regex': 59223,\n",
       " 'sublimetext2': 994,\n",
       " 'sublimetext': 381,\n",
       " 'sublimetext3': 12,\n",
       " 'multithreading': 37619,\n",
       " 'c#-4.0': 14168,\n",
       " 'blockingcollection': 43,\n",
       " 'raphael': 1873,\n",
       " 'graphiti': 11,\n",
       " 'routing': 7780,\n",
       " 'openvpn': 2156,\n",
       " 'ospf': 91,\n",
       " 'quagga': 44,\n",
       " 'pdf': 15619,\n",
       " 'browser': 11742,\n",
       " 'types': 6883,\n",
       " 'file-download': 2049,\n",
       " 'permissions': 13341,\n",
       " 'sql-server-2008-r2': 4034,\n",
       " 'jaxb': 3831,\n",
       " 'cxf': 1796,\n",
       " 'mule': 769,\n",
       " 'sql-server-ce': 2295,\n",
       " 'general-topology': 7996,\n",
       " 'jfreechart': 1125,\n",
       " 'search': 16901,\n",
       " 'binary-search': 466,\n",
       " 'linear': 231,\n",
       " 'drupal': 12895,\n",
       " 'e-commerce': 2575,\n",
       " 'ubercart': 331,\n",
       " 'virtuemart': 442,\n",
       " 'post': 10752,\n",
       " 'delete': 5791,\n",
       " 'hibernate': 24880,\n",
       " 'reflection': 9197,\n",
       " 'nosuchmethoderror': 111,\n",
       " 'soundcard': 31,\n",
       " 'xaudio2': 30,\n",
       " 'postgresql': 18471,\n",
       " 'namespaces': 4378,\n",
       " 'memory-management': 10241,\n",
       " 'sdk': 5786,\n",
       " 'view': 7463,\n",
       " 'switch': 2333,\n",
       " 'ruby-on-rails': 116883,\n",
       " 'phonegap': 11372,\n",
       " 'tree': 4332,\n",
       " 'trie': 246,\n",
       " 'descendant': 55,\n",
       " 'command-line': 17475,\n",
       " 'performance': 39377,\n",
       " 'directx': 2713,\n",
       " 'shader': 1257,\n",
       " 'outlook': 5672,\n",
       " 'organization': 791,\n",
       " 'http': 19768,\n",
       " 'web-applications': 12147,\n",
       " 'request': 2928,\n",
       " 'networking': 38323,\n",
       " 'beautifier': 83,\n",
       " 'php-beautifier': 11,\n",
       " 'mysql': 172182,\n",
       " 'authentication': 15932,\n",
       " 'process': 8001,\n",
       " 'operating-system': 3636,\n",
       " 'size': 3132,\n",
       " 'screen': 3487,\n",
       " 'nlog': 489,\n",
       " 'logging': 13849,\n",
       " 'blackberry': 9022,\n",
       " 'projects-and-solutions': 896,\n",
       " 'database': 59799,\n",
       " 'forms': 30026,\n",
       " 'integration': 4994,\n",
       " 'mechanize': 1076,\n",
       " 'microsoft': 3553,\n",
       " 'char': 2678,\n",
       " 'sql-server': 74921,\n",
       " 'linq-to-sql': 11376,\n",
       " 'math': 12826,\n",
       " 'signal-processing': 1597,\n",
       " 'frequency': 495,\n",
       " 'fft': 1036,\n",
       " 'snow-leopard-server': 166,\n",
       " 'azure-storage-tables': 393,\n",
       " 'curl': 8986,\n",
       " 'basic-authentication': 723,\n",
       " 'tikz-pgf': 7378,\n",
       " 'external-files': 294,\n",
       " 'tikz-external': 149,\n",
       " 'auto-pst-pdf': 27,\n",
       " 'resize': 4371,\n",
       " 'bitmapdata': 308,\n",
       " 'smooth': 250,\n",
       " 'cropping': 309,\n",
       " 'route': 1125,\n",
       " 'tightvnc': 112,\n",
       " 'jquery-ajax': 14113,\n",
       " 'asp.net-ajax': 3385,\n",
       " 'web': 7491,\n",
       " 'windows-vista': 8175,\n",
       " 'recovery': 1935,\n",
       " 'repair': 727,\n",
       " 'acl': 1735,\n",
       " 'image': 32280,\n",
       " 'rendering': 2244,\n",
       " 'gpu': 1782,\n",
       " 'layout': 10742,\n",
       " 'activity': 6055,\n",
       " 'ntlm': 764,\n",
       " 'reverse-proxy': 1942,\n",
       " 'serialization': 10067,\n",
       " 'xmlserializer': 479,\n",
       " 'zend-framework': 15609,\n",
       " 'phpunit': 2214,\n",
       " 'cobol': 489,\n",
       " 'logical-operators': 306,\n",
       " 'notation': 2524,\n",
       " 'asymptotics': 1318,\n",
       " 'windows': 98100,\n",
       " 'tsql': 20544,\n",
       " 'double': 1949,\n",
       " 'ajax': 62239,\n",
       " 'c#-3.0': 2909,\n",
       " 'ironruby': 288,\n",
       " 'evaluation': 393,\n",
       " 'ef-code-first': 3341,\n",
       " 'seed': 226,\n",
       " 'development': 3393,\n",
       " 'event-receivers': 417,\n",
       " 'command': 3612,\n",
       " 'parsing': 17471,\n",
       " 'text': 9575,\n",
       " 'textview': 2886,\n",
       " 'books': 3588,\n",
       " 'dojo': 4871,\n",
       " 'grid': 3824,\n",
       " 'store': 1172,\n",
       " 'google-analytics': 3702,\n",
       " 'google-analytics-api': 511,\n",
       " 'composer-php': 285,\n",
       " 'packagist': 15,\n",
       " 'query': 28931,\n",
       " 'optimization': 14304,\n",
       " 'objective-c': 133932,\n",
       " 'cocoa': 26062,\n",
       " 'core-data': 11264,\n",
       " 'infinite-loop': 693,\n",
       " 'uml': 2739,\n",
       " 'class-design': 1008,\n",
       " 'reverse-engineering': 1233,\n",
       " 'sequence-diagram': 199,\n",
       " 'ms-access': 12743,\n",
       " 'join': 9289,\n",
       " 'left-join': 1577,\n",
       " 'facebook-graph-api': 13830,\n",
       " 'sqlite': 20741,\n",
       " 'nesting': 407,\n",
       " 'posts': 3221,\n",
       " 'links': 2427,\n",
       " 'geospatial': 952,\n",
       " 'spatial': 527,\n",
       " 'architecture': 9196,\n",
       " 'swig': 977,\n",
       " 'empty-string': 165,\n",
       " 'struts': 2620,\n",
       " 'webview': 4928,\n",
       " 'loaddata': 48,\n",
       " 'tuning': 261,\n",
       " 'pmd': 234,\n",
       " 'freebsd': 3192,\n",
       " 'ports': 504,\n",
       " 'menu': 5696,\n",
       " 'menuitem': 783,\n",
       " 'gnuplot': 1318,\n",
       " 'ipad': 27098,\n",
       " 'datetime': 12427,\n",
       " 'compiler': 6958,\n",
       " 'installation': 9222,\n",
       " 'validation': 17713,\n",
       " 'tfs2010': 3195,\n",
       " 'diff': 2526,\n",
       " 'tfs2008': 488,\n",
       " 'differences': 45,\n",
       " 'html5': 31243,\n",
       " 'iphone-sdk-4.0': 8177,\n",
       " 'iadstsuserex': 8,\n",
       " 'linqpad': 389,\n",
       " 'xhtml': 5230,\n",
       " 'precision': 673,\n",
       " 'gsl': 177,\n",
       " 'floating-point-precision': 139,\n",
       " 'css-float': 2805,\n",
       " 'absolute-positioning': 843,\n",
       " 'hotmail': 455,\n",
       " 'google': 14480,\n",
       " 'google-maps': 16319,\n",
       " 'android-emulator': 5224,\n",
       " 'python-ctypes': 19,\n",
       " 'productivity': 1718,\n",
       " 'recommendations': 262,\n",
       " 'calculation': 275,\n",
       " 'equation': 355,\n",
       " 'calculator': 908,\n",
       " 'zepto': 203,\n",
       " 'xaml': 15665,\n",
       " 'resources': 5253,\n",
       " 'styling': 680,\n",
       " 'code-first': 1134,\n",
       " 'code-first-migrations': 236,\n",
       " 'installing': 894,\n",
       " 'date': 13697,\n",
       " 'uitableview': 15544,\n",
       " 'ios4': 4581,\n",
       " 'git': 29377,\n",
       " 'cygwin': 4212,\n",
       " 'git-tfs': 35,\n",
       " 'vb.net': 46653,\n",
       " '.net-4.0': 7010,\n",
       " 'xsd': 3843,\n",
       " 'remote-access': 2153,\n",
       " 'sql-server-2008-express': 408,\n",
       " 'connectivity': 468,\n",
       " 'decompiling': 378,\n",
       " 'ascii': 1743,\n",
       " 'word-processor': 18,\n",
       " 'hardware': 3771,\n",
       " 'serial-port': 3184,\n",
       " 'grit': 37,\n",
       " 'opengl-es': 7243,\n",
       " 'floating-point': 4205,\n",
       " 'texture': 1255,\n",
       " 'methods': 6903,\n",
       " 'static': 5616,\n",
       " 'module': 5152,\n",
       " 'include': 4192,\n",
       " 'flash': 27458,\n",
       " 'flex4.5': 1221,\n",
       " 'flexbuilder': 822,\n",
       " 'live-wallpaper': 465,\n",
       " 'matrix': 5282,\n",
       " 'numpy': 5184,\n",
       " 'jquery-plugins': 9450,\n",
       " 'android-custom-view': 393,\n",
       " 'jasper-reports': 2956,\n",
       " 'ejb': 2543,\n",
       " 'exception': 13366,\n",
       " 'debugging': 18936,\n",
       " 'kernel': 4777,\n",
       " 'linux-device-driver': 944,\n",
       " 'colors': 6573,\n",
       " 'mobile-safari': 2019,\n",
       " 'generics': 12901,\n",
       " 'formcollection': 65,\n",
       " 'netbeans': 9151,\n",
       " 'testng': 964,\n",
       " 'dataprovider': 209,\n",
       " 'drivers': 4713,\n",
       " 'canvas': 7922,\n",
       " 'news-feed': 187,\n",
       " 'ticker': 124,\n",
       " 'facebook-timeline': 169,\n",
       " 'open-graph-beta': 42,\n",
       " 'wcf': 31490,\n",
       " 'wcf-binding': 1006,\n",
       " 'design-patterns': 14634,\n",
       " 'dependency-injection': 5420,\n",
       " 'nhibernate': 14863,\n",
       " 'samba': 3035,\n",
       " 'kerberos': 1405,\n",
       " 'file-server': 342,\n",
       " 'share': 1533,\n",
       " 'core-animation': 2464,\n",
       " 'textbox': 4920,\n",
       " 'focus': 3429,\n",
       " 'html5-animation': 81,\n",
       " 'this': 1420,\n",
       " 'jqtouch': 533,\n",
       " 'oop': 19016,\n",
       " 'django': 52030,\n",
       " 'django-multilingual': 24,\n",
       " 'vpn': 7178,\n",
       " 'connection': 5183,\n",
       " 'upnp': 377,\n",
       " 'portforwarding': 329,\n",
       " 'nat-traversal': 38,\n",
       " 'touch': 2631,\n",
       " 'interface': 6398,\n",
       " 'generic-interface': 8,\n",
       " 'algebra': 285,\n",
       " 'virtualization': 6897,\n",
       " 'xen': 2034,\n",
       " 'asp.net-membership': 2662,\n",
       " 'membership-provider': 755,\n",
       " 'sql-server-2008': 29743,\n",
       " 'daemon': 1456,\n",
       " 'clojure': 5161,\n",
       " 'internet': 5353,\n",
       " 'svn': 19727,\n",
       " 'tortoisesvn': 2944,\n",
       " 'selector': 1483,\n",
       " 'concurrency': 6587,\n",
       " 'osx-lion': 4834,\n",
       " 'time-machine': 687,\n",
       " 'computer-science': 3277,\n",
       " 'video-lectures': 22,\n",
       " 'localization': 5919,\n",
       " 'language': 1322,\n",
       " 'if-statement': 7258,\n",
       " 'nsbutton': 233,\n",
       " 'rspec': 5242,\n",
       " 'controllers': 313,\n",
       " 'data-binding': 10134,\n",
       " 'inkcanvas': 77,\n",
       " 'sql-server-2005': 18812,\n",
       " 'windows-services': 4674,\n",
       " 'timer': 5134,\n",
       " 'try-catch-finally': 147,\n",
       " 'junit': 5215,\n",
       " 'dbunit': 275,\n",
       " 'notifications': 4196,\n",
       " 'plugin-development': 2631,\n",
       " 'headers': 610,\n",
       " 'ios6': 4999,\n",
       " 'cocoa-touch': 26314,\n",
       " 'reloaddata': 252,\n",
       " 'facebook-fql': 1563,\n",
       " 'friend': 512,\n",
       " 'koala': 204,\n",
       " 'user': 3891,\n",
       " 'sitecore': 1429,\n",
       " 'bsd': 524,\n",
       " 'delegates': 4809,\n",
       " 'func': 223,\n",
       " 'arrays': 50055,\n",
       " 'iteration': 1687,\n",
       " 'graphviz': 698,\n",
       " 'dot': 314,\n",
       " 'graph-layout': 46,\n",
       " 'google-maps-api-3': 7754,\n",
       " 'maps': 3081,\n",
       " 'amazon-rds': 496,\n",
       " 'bitmap': 4659,\n",
       " 'paint': 958,\n",
       " 'channel': 285,\n",
       " 'javadoc': 1162,\n",
       " 'ajaxcontroltoolkit': 1517,\n",
       " 'ado.net-entity-data-model': 328,\n",
       " 'htmleditor': 40,\n",
       " 'openmp': 1167,\n",
       " 'parallel-processing': 4278,\n",
       " 'ruby-on-rails-3': 43166,\n",
       " 'unobtrusive-javascript': 424,\n",
       " 'development-environment': 1396,\n",
       " 'pages': 1669,\n",
       " 'wordpress.com': 358,\n",
       " 'integral': 5171,\n",
       " 'robocopy': 461,\n",
       " 'service': 8140,\n",
       " 'internet-explorer-7': 3626,\n",
       " 'relative-path': 817,\n",
       " 'href': 1225,\n",
       " 'absolute-path': 260,\n",
       " 'http-status-code-403': 385,\n",
       " 'url-parameters': 206,\n",
       " 'dvcs': 951,\n",
       " 'uiwebview': 5453,\n",
       " 'document-library': 1701,\n",
       " 'collections': 7355,\n",
       " 'web-services': 30141,\n",
       " 'dll': 9028,\n",
       " 'scheduled-tasks': 2191,\n",
       " 'push-notification': 2252,\n",
       " 'scroll': 3597,\n",
       " 'properties': 6762,\n",
       " 'weblogic': 2171,\n",
       " 'classpath': 1978,\n",
       " 'network-protocols': 925,\n",
       " 'networkstream': 233,\n",
       " 'resizable': 240,\n",
       " 'jquery-ui-resizable': 164,\n",
       " 'windows-xp': 20193,\n",
       " 'windows-8': 10949,\n",
       " 'windows-8-upgrade': 101,\n",
       " 'apache': 26990,\n",
       " 'buffer': 1987,\n",
       " 'csv': 8702,\n",
       " 'drupal-batch': 4,\n",
       " 'ctypes': 740,\n",
       " 'dllexport': 210,\n",
       " 'probability': 12930,\n",
       " 'statistics': 8470,\n",
       " 'soap': 9261,\n",
       " 'boost': 9275,\n",
       " 'backslash': 238,\n",
       " 'reference': 5803,\n",
       " 'mongodb': 15499,\n",
       " 'pymongo': 617,\n",
       " 'dbref': 25,\n",
       " 'animation': 11277,\n",
       " 'subclass': 1195,\n",
       " 'pdfview': 19,\n",
       " 'rgb': 906,\n",
       " 'patch': 1020,\n",
       " 'terminal': 7963,\n",
       " 'title': 1317,\n",
       " 'database-design': 11759,\n",
       " 'weighted': 89,\n",
       " 'mfc-feature-pack': 128,\n",
       " 'quicksand': 94,\n",
       " 'guid': 1038,\n",
       " 'iqueryable': 543,\n",
       " 'decimal': 1596,\n",
       " 'round': 411,\n",
       " 'node.js': 20280,\n",
       " 'vsts2008': 312,\n",
       " 'document-classes': 413,\n",
       " 'documentclass-writing': 192,\n",
       " 'spring': 26995,\n",
       " 'jpa': 10139,\n",
       " 'spring-data-jpa': 242,\n",
       " 'video': 14300,\n",
       " 'flowplayer': 433,\n",
       " 'file-io': 7696,\n",
       " 'inline-scripting': 7,\n",
       " 'stored-procedures': 9874,\n",
       " 'update': 2098,\n",
       " 'datagridview': 5940,\n",
       " 'memory-allocation': 1647,\n",
       " 'linked-list': 2942,\n",
       " 'cisco-asa': 931,\n",
       " 'login': 9802,\n",
       " 'accordion': 1372,\n",
       " 'horizontal': 166,\n",
       " 'sencha-touch-2': 2067,\n",
       " 'sass': 1743,\n",
       " 'fontsize': 1183,\n",
       " 'origin': 94,\n",
       " 'css-transforms': 262,\n",
       " 'load': 4105,\n",
       " 'shared-objects': 225,\n",
       " 'header': 4880,\n",
       " 'magento-1.5': 656,\n",
       " 'magento': 15082,\n",
       " 'ssd': 3209,\n",
       " 'bios': 2322,\n",
       " 'uefi': 319,\n",
       " 'extension-methods': 1633,\n",
       " 'ninject': 1873,\n",
       " 'configuration': 10961,\n",
       " 'archive': 1074,\n",
       " 'war': 1088,\n",
       " '3d': 5928,\n",
       " 'java-3d': 321,\n",
       " 'deserialization': 1271,\n",
       " 'strongly-typed-dataset': 320,\n",
       " 'history': 2694,\n",
       " 'islam': 31,\n",
       " 'russia': 8,\n",
       " 'tomcat': 14848,\n",
       " 'classloader': 1444,\n",
       " 'wss4j': 64,\n",
       " 'angularjs': 3578,\n",
       " 'group-by': 3429,\n",
       " 'xpath': 8544,\n",
       " 'asp-classic': 6242,\n",
       " 'jsf': 14650,\n",
       " 'jsf-2': 6221,\n",
       " 'map': 6263,\n",
       " 'el': 1115,\n",
       " 'trigonometry': 4313,\n",
       " 'bezier-curve': 416,\n",
       " 'mongodb-java': 150,\n",
       " 'tcp': 7911,\n",
       " 'webserver': 7612,\n",
       " 'yii': 4358,\n",
       " 'audio': 14966,\n",
       " 'icefaces': 649,\n",
       " 'icefaces-1.8': 51,\n",
       " 'extern': 447,\n",
       " 'computed-columns': 179,\n",
       " 'amazon-ec2': 9365,\n",
       " 'performance-tuning': 494,\n",
       " 'sectors': 75,\n",
       " 'geometry': 10586,\n",
       " 'matplotlib': 3552,\n",
       " 'axes': 144,\n",
       " 'subplot': 54,\n",
       " 'models': 1172,\n",
       " 'solutions': 16,\n",
       " 'interview': 1069,\n",
       " 'practice-problems': 7,\n",
       " 'playframework-2.0': 2137,\n",
       " 'h2': 622,\n",
       " 'file-system': 236,\n",
       " 'gui': 13275,\n",
       " 'frameworks': 6376,\n",
       " 'uiview': 7259,\n",
       " 'uiviewcontroller': 5764,\n",
       " 'rotation': 3780,\n",
       " 'swing': 25872,\n",
       " 'listener': 1603,\n",
       " 'mobile': 11147,\n",
       " 'hp-pavilion': 152,\n",
       " 'locking': 3279,\n",
       " 'gwt': 13235,\n",
       " 'gwt2': 343,\n",
       " 'powerbuilder': 501,\n",
       " 'rvalue': 117,\n",
       " 'svg': 5280,\n",
       " 'scale': 1257,\n",
       " 'insert': 4810,\n",
       " 'microsoft-excel': 6284,\n",
       " 'vba': 14490,\n",
       " 'formula': 1156,\n",
       " 'ssh': 17866,\n",
       " 'filters': 1570,\n",
       " 'wp-mail': 80,\n",
       " 'gmail': 4449,\n",
       " 'imap': 2642,\n",
       " 'backbone.js': 7679,\n",
       " 'coffeescript': 3062,\n",
       " 'jasmine': 659,\n",
       " 'sprockets': 298,\n",
       " 'sinon': 108,\n",
       " 'multiple-inheritance': 771,\n",
       " 'rss': 5324,\n",
       " 'elisp': 1879,\n",
       " 'dbus': 480,\n",
       " 'differential-equations': 4738,\n",
       " 'bluetooth': 4992,\n",
       " 'parallelism': 63,\n",
       " 'combinatorics': 8662,\n",
       " 'game-theory': 546,\n",
       " 'dice': 331,\n",
       " 'redirect': 13338,\n",
       " 'drupal-7': 3958,\n",
       " 'panel': 1455,\n",
       " 'settings': 2840,\n",
       " 'shortcut': 717,\n",
       " 'sorting': 13541,\n",
       " 'b-tree': 277,\n",
       " 'dbms': 374,\n",
       " 'conference': 96,\n",
       " 'macros': 8626,\n",
       " 'light': 311,\n",
       " 'antivirus': 796,\n",
       " 'malware': 932,\n",
       " 'wireless-networking': 7817,\n",
       " 'wireless-access-point': 423,\n",
       " 'hotspot': 391,\n",
       " '64-bit': 3572,\n",
       " 'disk-utility': 229,\n",
       " 'password': 1488,\n",
       " 'communication': 1562,\n",
       " 'windows-server-2003-r2': 287,\n",
       " 'asynchronous': 7459,\n",
       " 'client-server': 2592,\n",
       " 'chat': 2090,\n",
       " 'orchardcms': 1070,\n",
       " 'file': 23406,\n",
       " 'content': 2311,\n",
       " 'memory': 17362,\n",
       " 'resource-monitor': 70,\n",
       " 'datatables': 1947,\n",
       " 'graph': 7244,\n",
       " 'plot': 3576,\n",
       " 'spreadsheet': 1451,\n",
       " 'openoffice-calc': 526,\n",
       " 'tags': 5022,\n",
       " 'echo': 1490,\n",
       " 'ghost': 175,\n",
       " 'android-imageview': 976,\n",
       " 'android-textview': 755,\n",
       " 'android-gridview': 391,\n",
       " 'google-chrome-extension': 4981,\n",
       " 'firefox-addon': 3033,\n",
       " 'activexobject': 170,\n",
       " 'browser-extension': 119,\n",
       " 'passwords': 5113,\n",
       " 'openurl': 104,\n",
       " 'linq-to-entities': 3808,\n",
       " 'synchronization': 4230,\n",
       " 'sharepoint2010': 6549,\n",
       " 'ruby-on-rails-3.1': 5443,\n",
       " 'swizzling': 32,\n",
       " 'grails': 11313,\n",
       " 'calendar': 5326,\n",
       " 'grails-validation': 70,\n",
       " 'user-defined-functions': 726,\n",
       " 'hive': 890,\n",
       " 'error': 759,\n",
       " 'internet-explorer': 21583,\n",
       " 'fedora': 4739,\n",
       " 'init-script': 107,\n",
       " 'functions': 5730,\n",
       " 'comments': 4554,\n",
       " 'amazon-s3': 4920,\n",
       " 'ruby-on-rails-2': 387,\n",
       " 'fopen': 849,\n",
       " 'slideshow': 1708,\n",
       " 'cycle': 770,\n",
       " 'canon': 1439,\n",
       " 'autofocus': 494,\n",
       " 'streaming': 4085,\n",
       " 'sax': 1003,\n",
       " 'custom-controls': 2319,\n",
       " 'dtd': 626,\n",
       " 'opengl': 11813,\n",
       " 'definite-integral': 994,\n",
       " 'improper-integrals': 560,\n",
       " 'actionlink': 304,\n",
       " 'ds.algorithms': 1855,\n",
       " 'graph-theory': 5300,\n",
       " 'graph-algorithms': 664,\n",
       " 'ds.data-structures': 321,\n",
       " 'directed-acyclic-graph': 51,\n",
       " 'threadpool': 1334,\n",
       " 'caching': 12960,\n",
       " 'twig': 1104,\n",
       " 'drag-and-drop': 4706,\n",
       " 'object-model': 382,\n",
       " 'pasteboard': 28,\n",
       " 'facebook-like': 2991,\n",
       " 'fonts': 10228,\n",
       " 'putty': 1879,\n",
       " 'variable-width': 14,\n",
       " 'list': 21628,\n",
       " 'dictionary': 6404,\n",
       " 'tuples': 1401,\n",
       " 'work-environment': 652,\n",
       " 'retina': 41,\n",
       " 'pixelate': 15,\n",
       " 'preg-match': 1917,\n",
       " 'exit': 796,\n",
       " 'back-button': 585,\n",
       " 'tdd': 3462,\n",
       " 'integration-testing': 1426,\n",
       " 'osgi': 2014,\n",
       " 'apache-poi': 1396,\n",
       " 'apache-karaf': 106,\n",
       " 'osgi-bundle': 33,\n",
       " 'upgrade-issue': 176,\n",
       " 'windows-mobile': 3376,\n",
       " 'sspi': 81,\n",
       " 'strip': 345,\n",
       " 'graphics': 11198,\n",
       " 'cloud': 2965,\n",
       " 'desktop-application': 1329,\n",
       " 'benchmarking': 1568,\n",
       " 'ios5': 12090,\n",
       " 'vb.net-2010': 839,\n",
       " 'categories': 3033,\n",
       " 'menus': 1845,\n",
       " 'thumbnails': 1630,\n",
       " 'algebra-precalculus': 7144,\n",
       " 'terminology': 4437,\n",
       " 'queue': 2699,\n",
       " 'msmq': 1301,\n",
       " 'vsts2010': 122,\n",
       " 'like-operator': 249,\n",
       " 'ini': 405,\n",
       " 'keyeventargs': 15,\n",
       " 'diagram': 715,\n",
       " 'achartengine': 466,\n",
       " 'drop-down-menu': 7427,\n",
       " 'requiredfieldvalidator': 238,\n",
       " 'comparevalidator': 35,\n",
       " 'events': 15884,\n",
       " 'div': 10464,\n",
       " 'clickable': 255,\n",
       " 'propagation': 110,\n",
       " 'spacing': 2991,\n",
       " 'subfloats': 557,\n",
       " 'transparent': 840,\n",
       " 'scala': 15343,\n",
       " 'eclipse-plugin': 4945,\n",
       " 'symbian': 1066,\n",
       " 's60': 175,\n",
       " 'pys60': 83,\n",
       " 'ovi': 28,\n",
       " 'garbage-collection': 3902,\n",
       " 'functional-programming': 4532,\n",
       " 'cakephp': 13882,\n",
       " 'extract': 1479,\n",
       " 'internal': 399,\n",
       " 'tables': 3922,\n",
       " 'org-mode': 651,\n",
       " 'codeigniter': 18259,\n",
       " 'development-process': 768,\n",
       " 'qa': 541,\n",
       " 'quality': 596,\n",
       " 'class': 18363,\n",
       " 'account': 584,\n",
       " 'creation': 292,\n",
       " 'comparison': 3595,\n",
       " 'sso': 805,\n",
       " 'cc.complexity-theory': 2310,\n",
       " 'complexity-classes': 394,\n",
       " 'vmware-esxi': 2449,\n",
       " 'microsoft-access': 589,\n",
       " 'avaudioplayer': 1142,\n",
       " 'mixing': 162,\n",
       " 'sockets': 17598,\n",
       " 'linux-kernel': 4582,\n",
       " 'netlink': 53,\n",
       " 'typescript': 645,\n",
       " 'grub2': 559,\n",
       " 'db2': 2804,\n",
       " 'reindex': 37,\n",
       " 'apple': 4076,\n",
       " 'ios-simulator': 2279,\n",
       " 'vbulletin': 324,\n",
       " 'mysql-error-1054': 203,\n",
       " 'capistrano': 1656,\n",
       " 'perl': 28641,\n",
       " 'extjs': 9080,\n",
       " 'newline': 1482,\n",
       " 'strpos': 192,\n",
       " 'jobs': 731,\n",
       " 'co-workers': 80,\n",
       " 'log4net': 1745,\n",
       " 'shopify': 506,\n",
       " 'carbon': 476,\n",
       " 'mono': 4784,\n",
       " 'wireshark': 1297,\n",
       " 'rtt': 23,\n",
       " 'hammer': 13,\n",
       " 'django-templates': 3457,\n",
       " 'internet-explorer-6': 2015,\n",
       " 'ide': 5528,\n",
       " 'templates': 16900,\n",
       " 'connection-string': 1684,\n",
       " 'ora-12560': 28,\n",
       " 'metadata': 2639,\n",
       " 'audio-streaming': 888,\n",
       " 'refactoring': 3940,\n",
       " 'environment-variables': 3013,\n",
       " 'getjson': 823,\n",
       " 'time-series': 850,\n",
       " 'expression-blend': 1047,\n",
       " 'blend': 362,\n",
       " 'android-layout': 14609,\n",
       " 'category-theory': 1891,\n",
       " 'examples-counterexamples': 686,\n",
       " 'chmod': 1047,\n",
       " 'full-text-search': 3202,\n",
       " 'defragment': 298,\n",
       " 'facebook-javascript-sdk': 2062,\n",
       " 'transformation': 1292,\n",
       " 'xml-namespaces': 631,\n",
       " 'user-accounts': 1882,\n",
       " 'new-account': 17,\n",
       " 'nsdate': 1956,\n",
       " 'in-app-purchase': 2296,\n",
       " 'amazon': 1517,\n",
       " 'rhino-mocks': 957,\n",
       " 'inheritance': 11135,\n",
       " 'derived-class': 345,\n",
       " 'base-class': 274,\n",
       " 'activex': 2328,\n",
       " 'xcode4': 6052,\n",
       " 'unity3d': 1473,\n",
       " 'pdf-generation': 2324,\n",
       " 'memcached': 3234,\n",
       " 'membase': 89,\n",
       " 'couchbase': 274,\n",
       " 'glteximage2d': 32,\n",
       " 'right-click': 374,\n",
       " 'imageview': 2494,\n",
       " 'database-schema': 915,\n",
       " 'formatting': 6647,\n",
       " ...}"
      ]
     },
     "execution_count": 12,
     "metadata": {},
     "output_type": "execute_result"
    }
   ],
   "source": [
    "tags_on_dataset"
   ]
  },
  {
   "cell_type": "markdown",
   "metadata": {
    "colab_type": "text",
    "id": "snDgZvG4MhGZ"
   },
   "source": [
    "Let's save this data for future use."
   ]
  },
  {
   "cell_type": "code",
   "execution_count": 13,
   "metadata": {
    "colab": {},
    "colab_type": "code",
    "id": "a5MIB1v7xBAE"
   },
   "outputs": [],
   "source": [
    "file = r\"\\JupyterPath\\tagsDictionary.txt\"\n",
    "outfile = open(file,'wb')\n",
    "pickle.dump(tags_on_dataset, outfile)\n",
    "outfile.close()"
   ]
  },
  {
   "cell_type": "code",
   "execution_count": 120,
   "metadata": {
    "colab": {},
    "colab_type": "code",
    "id": "CT6UToFlxBAH"
   },
   "outputs": [],
   "source": [
    "infile = open(r\"\\JupyterPath\\tagsDictionary.txt\",\"rb\")\n",
    "tags_on_dataset = pickle.load(infile)\n",
    "infile.close()"
   ]
  },
  {
   "cell_type": "code",
   "execution_count": 121,
   "metadata": {
    "colab": {
     "base_uri": "https://localhost:8080/",
     "height": 34
    },
    "colab_type": "code",
    "id": "vow2yxu7xBAJ",
    "outputId": "15d2709b-a785-47ff-b61e-bef94b6b002e"
   },
   "outputs": [
    {
     "name": "stdout",
     "output_type": "stream",
     "text": [
      "The number of unique labels on the dataset:  42048\n"
     ]
    }
   ],
   "source": [
    "print(\"The number of unique labels on the dataset: \", len(tags_on_dataset.keys()))"
   ]
  },
  {
   "cell_type": "markdown",
   "metadata": {
    "colab_type": "text",
    "id": "BIDjmj9-QB_S"
   },
   "source": [
    "Now, I want to see how many tags make up the most of the questions on the dataset.\n",
    "I sum up all the tags in dataset.\n",
    "Then I check how many tags make up 90% of the questions of the dataset."
   ]
  },
  {
   "cell_type": "code",
   "execution_count": 122,
   "metadata": {
    "colab": {},
    "colab_type": "code",
    "id": "uKwhkMu4NfbK"
   },
   "outputs": [],
   "source": [
    "all_tags_sum = 0\n",
    "for key, value in tags_on_dataset.items():\n",
    "    all_tags_sum += value"
   ]
  },
  {
   "cell_type": "code",
   "execution_count": 123,
   "metadata": {
    "colab": {
     "base_uri": "https://localhost:8080/",
     "height": 34
    },
    "colab_type": "code",
    "id": "WBoOBhd5OZqp",
    "outputId": "d9b97c29-b4a6-4b97-b6a1-5db413d368ca"
   },
   "outputs": [
    {
     "data": {
      "text/plain": [
       "17409986"
      ]
     },
     "execution_count": 123,
     "metadata": {},
     "output_type": "execute_result"
    }
   ],
   "source": [
    "all_tags_sum"
   ]
  },
  {
   "cell_type": "markdown",
   "metadata": {
    "colab_type": "text",
    "id": "m4kwPo6oxBAQ"
   },
   "source": [
    "tags ordered by the most common to the least common. I got the most 6000 used tags, because they make up more than 90% of the total questions."
   ]
  },
  {
   "cell_type": "code",
   "execution_count": 124,
   "metadata": {
    "colab": {},
    "colab_type": "code",
    "id": "DMOBDXh7xBAQ",
    "scrolled": true
   },
   "outputs": [],
   "source": [
    "stats = collections.Counter(tags_on_dataset)\n",
    "tags_most_common = stats.most_common()"
   ]
  },
  {
   "cell_type": "code",
   "execution_count": 125,
   "metadata": {
    "colab": {},
    "colab_type": "code",
    "id": "7irsbkw-Ors_"
   },
   "outputs": [],
   "source": [
    "most_used_tags_sum = 0\n",
    "for t in tags_most_common[:6000]:\n",
    "    most_used_tags_sum += t[1]"
   ]
  },
  {
   "cell_type": "code",
   "execution_count": 126,
   "metadata": {
    "colab": {
     "base_uri": "https://localhost:8080/",
     "height": 34
    },
    "colab_type": "code",
    "id": "B4DjQ-9hPhN7",
    "outputId": "beeb992c-3a04-4351-c698-158a40420a9a"
   },
   "outputs": [
    {
     "data": {
      "text/plain": [
       "16028703"
      ]
     },
     "execution_count": 126,
     "metadata": {},
     "output_type": "execute_result"
    }
   ],
   "source": [
    "most_used_tags_sum"
   ]
  },
  {
   "cell_type": "code",
   "execution_count": 127,
   "metadata": {
    "colab": {
     "base_uri": "https://localhost:8080/",
     "height": 34
    },
    "colab_type": "code",
    "id": "DUczGEgoPmBX",
    "outputId": "4892297c-09e8-4314-8718-20ced1119fe8"
   },
   "outputs": [
    {
     "data": {
      "text/plain": [
       "0.9206614525709556"
      ]
     },
     "execution_count": 127,
     "metadata": {},
     "output_type": "execute_result"
    }
   ],
   "source": [
    "most_used_tags_sum / all_tags_sum"
   ]
  },
  {
   "cell_type": "markdown",
   "metadata": {
    "colab_type": "text",
    "id": "rBQ3wAxmQnx3"
   },
   "source": [
    "We see that from 42,000 unique tags, only 6000 of them make up more than 92% of the total questions of the dataset.\n",
    "So, I ignore the rest of the tags and keep working only with these 6000 tags."
   ]
  },
  {
   "cell_type": "code",
   "execution_count": 128,
   "metadata": {
    "colab": {},
    "colab_type": "code",
    "id": "YJeS8WJ-xBAS"
   },
   "outputs": [],
   "source": [
    "tags_most_common = tags_most_common[0:6000]"
   ]
  },
  {
   "cell_type": "code",
   "execution_count": 129,
   "metadata": {
    "colab": {},
    "colab_type": "code",
    "id": "7CjH9H3IxBAU"
   },
   "outputs": [],
   "source": [
    "most_common_tags = []\n",
    "for t in tags_most_common:\n",
    "    most_common_tags.append(t[0])"
   ]
  },
  {
   "cell_type": "code",
   "execution_count": 130,
   "metadata": {
    "colab": {
     "base_uri": "https://localhost:8080/",
     "height": 34
    },
    "colab_type": "code",
    "id": "nYMbte0uRhOw",
    "outputId": "d959b3aa-b9a5-4f0a-e678-abe25cf580d9"
   },
   "outputs": [
    {
     "data": {
      "text/plain": [
       "['c#', 'java', 'php', 'javascript', 'android']"
      ]
     },
     "execution_count": 130,
     "metadata": {},
     "output_type": "execute_result"
    }
   ],
   "source": [
    "most_common_tags[0:5]"
   ]
  },
  {
   "cell_type": "code",
   "execution_count": 131,
   "metadata": {
    "colab": {},
    "colab_type": "code",
    "id": "pkGCSltVxBAW"
   },
   "outputs": [],
   "source": [
    "most_common_sample = most_common_tags[0:1000]"
   ]
  },
  {
   "cell_type": "markdown",
   "metadata": {
    "colab_type": "text",
    "id": "pyUmS89DxBAY"
   },
   "source": [
    "Plotting this info in a bar chart."
   ]
  },
  {
   "cell_type": "code",
   "execution_count": 132,
   "metadata": {
    "colab": {},
    "colab_type": "code",
    "id": "XX2YhdphxBAZ"
   },
   "outputs": [],
   "source": [
    "some_stats = stats.most_common(10)\n",
    "v =  []\n",
    "k =  []\n",
    "for element in some_stats:\n",
    "    k.append(element[0])\n",
    "    v.append(element[1])"
   ]
  },
  {
   "cell_type": "code",
   "execution_count": 133,
   "metadata": {
    "colab": {
     "base_uri": "https://localhost:8080/",
     "height": 304
    },
    "colab_type": "code",
    "id": "wW3FKqELxBAb",
    "outputId": "cf984393-7613-4aab-a78e-cbcfe8e8faea"
   },
   "outputs": [
    {
     "data": {
      "image/png": "[encoded data removed]",
      "text/plain": [
       "<Figure size 432x288 with 1 Axes>"
      ]
     },
     "metadata": {
      "needs_background": "light"
     },
     "output_type": "display_data"
    }
   ],
   "source": [
    "plt.bar(range(len(some_stats)),list(v),tick_label=k)\n",
    "plt.xticks(rotation='vertical')\n",
    "plt.show()"
   ]
  },
  {
   "cell_type": "markdown",
   "metadata": {
    "colab_type": "text",
    "id": "8StT0PZ5xBAe"
   },
   "source": [
    "## Data Cleaning"
   ]
  },
  {
   "cell_type": "code",
   "execution_count": 134,
   "metadata": {
    "colab": {},
    "colab_type": "code",
    "id": "Rhj1Y-4zxBAe"
   },
   "outputs": [],
   "source": [
    "del tags_on_dataset\n",
    "del stats"
   ]
  },
  {
   "cell_type": "markdown",
   "metadata": {
    "colab_type": "text",
    "id": "rq6POow0xBAg"
   },
   "source": [
    "Remove the duplicate questions."
   ]
  },
  {
   "cell_type": "code",
   "execution_count": 29,
   "metadata": {
    "colab": {},
    "colab_type": "code",
    "id": "SHuWdNPpxBAh"
   },
   "outputs": [],
   "source": [
    "train_dataset = train_dataset.drop_duplicates(subset=\"Body\", keep=\"first\")"
   ]
  },
  {
   "cell_type": "markdown",
   "metadata": {
    "colab_type": "text",
    "id": "mCtJdVO-xBAm"
   },
   "source": [
    "After getting rid of the duplicates, we have 4.1 milion questions."
   ]
  },
  {
   "cell_type": "code",
   "execution_count": 30,
   "metadata": {
    "colab": {
     "base_uri": "https://localhost:8080/",
     "height": 34
    },
    "colab_type": "code",
    "id": "ZkO-NmuAxBAm",
    "outputId": "731c6229-4de7-4c7a-c04e-c95d0813f90a"
   },
   "outputs": [
    {
     "data": {
      "text/plain": [
       "4154374"
      ]
     },
     "execution_count": 30,
     "metadata": {},
     "output_type": "execute_result"
    }
   ],
   "source": [
    "len(train_dataset)"
   ]
  },
  {
   "cell_type": "markdown",
   "metadata": {
    "colab_type": "text",
    "id": "BneDWn9PSlcW"
   },
   "source": [
    "Let's save these in a file."
   ]
  },
  {
   "cell_type": "code",
   "execution_count": 33,
   "metadata": {
    "colab": {},
    "colab_type": "code",
    "id": "-aearv0JxBAo"
   },
   "outputs": [],
   "source": [
    "file = r\"\\JupyterPath\\train_dataset_noduplicates\"\n",
    "out_file = open(file,'wb')\n",
    "pickle.dump(train_dataset, out_file)f\n",
    "out_file.close()"
   ]
  },
  {
   "cell_type": "code",
   "execution_count": 19,
   "metadata": {
    "colab": {},
    "colab_type": "code",
    "id": "lLzOUOd5xBAq",
    "outputId": "ad3edbca-5e2f-444d-ce6d-6753f29b0819"
   },
   "outputs": [],
   "source": [
    "infile = open(r\"\\JupyterPath\\train_dataset_noduplicates\",\"rb\")\n",
    "train_dataset = pickle.load(infile)\n",
    "infile.close()"
   ]
  },
  {
   "cell_type": "markdown",
   "metadata": {
    "colab_type": "text",
    "id": "YaJv-WEaxBAs"
   },
   "source": [
    "Remove links, html tags, urls, and code fragments from the Body column. They are not needed in this case."
   ]
  },
  {
   "cell_type": "code",
   "execution_count": 36,
   "metadata": {
    "colab": {},
    "colab_type": "code",
    "id": "oxz5Fuo_xBAs"
   },
   "outputs": [],
   "source": [
    "def removeCode(sentence):\n",
    "    sentence = sentence.replace(\"\\n\",\" \")\n",
    "    sentence=re.sub(\"<code>.*?</code>\", ' ', sentence)\n",
    "    return sentence\n",
    "\n",
    "def removeHtml(sentence):\n",
    "    cleanr = re.compile('<.*?>')\n",
    "    cleantext = re.sub(cleanr, ' ', str(sentence))\n",
    "    return cleantext\n",
    "\n",
    "def removePunctuation(sentence):\n",
    "    cleaned = re.sub(r'[?|!|\\'|\"]',r'',sentence)\n",
    "    cleaned = re.sub(r'[.|,|)|(|\\|/]',r' ',cleaned)\n",
    "    cleaned = cleaned.strip()\n",
    "    cleaned = cleaned.replace(\"\\n\",\" \")\n",
    "    return cleaned\n",
    "\n",
    "def keepAlpha(sentence):\n",
    "    alpha_sent = \"\"\n",
    "    for word in sentence.split():\n",
    "        alpha_word = re.sub('[^a-z A-Z]+', ' ', word)\n",
    "        alpha_sent += alpha_word\n",
    "        alpha_sent += \" \"\n",
    "    alpha_sent = alpha_sent.strip()\n",
    "    return alpha_sent.lower()\n",
    "def removeUrl(sentence):\n",
    "    return re.sub(r\"http\\S+\", \"\", sentence)"
   ]
  },
  {
   "cell_type": "code",
   "execution_count": 37,
   "metadata": {
    "colab": {},
    "colab_type": "code",
    "id": "n-ZSPXaQxBAu"
   },
   "outputs": [],
   "source": [
    "train_dataset['Body'] = train_dataset['Body'].apply(removeCode)\n",
    "train_dataset['Body'] = train_dataset['Body'].apply(removeUrl)\n",
    "train_dataset['Body'] = train_dataset['Body'].apply(removeHtml)\n",
    "train_dataset['Body'] = train_dataset['Body'].apply(removePunctuation)\n",
    "train_dataset['Body'] = train_dataset['Body'].apply(keepAlpha)\n",
    "train_dataset['Title'] = train_dataset['Title'].apply(removePunctuation)"
   ]
  },
  {
   "cell_type": "code",
   "execution_count": 38,
   "metadata": {
    "colab": {},
    "colab_type": "code",
    "id": "t5zp4K53xBAx"
   },
   "outputs": [],
   "source": [
    "file = r\"\\train_dataset_cleaned.txt\"\n",
    "outf = open(file,'wb')\n",
    "pickle.dump(train_dataset, outf)\n",
    "outf.close()"
   ]
  },
  {
   "cell_type": "code",
   "execution_count": 159,
   "metadata": {
    "colab": {},
    "colab_type": "code",
    "id": "zIrleDJaxBAz",
    "outputId": "b953935c-d326-4b98-e538-ac96c41ce818"
   },
   "outputs": [],
   "source": [
    "infile = open(r\"\\train_dataset_cleaned.txt\",\"rb\")\n",
    "train_dataset = pickle.load(infile)\n",
    "infile.close()"
   ]
  },
  {
   "cell_type": "code",
   "execution_count": 160,
   "metadata": {
    "colab": {
     "base_uri": "https://localhost:8080/",
     "height": 54
    },
    "colab_type": "code",
    "id": "4YrtEWUVxBA1",
    "outputId": "fef6c0b8-736e-4787-9208-1fc96765af43"
   },
   "outputs": [
    {
     "data": {
      "text/plain": [
       "'i had previously thought there was no way to get a users information specifically their userid without first getting them to authenticate your app i see that this page however does that on a custom page tab  not only does this page tab get the viewing users name but it also gets their profile url which includes their userid how do they accomplish this without authentication if this is possible could someone point me to example code where i can see just how it implement it on my own page tabs'"
      ]
     },
     "execution_count": 160,
     "metadata": {},
     "output_type": "execute_result"
    }
   ],
   "source": [
    "train_dataset['Body'][200854]"
   ]
  },
  {
   "cell_type": "code",
   "execution_count": 161,
   "metadata": {
    "colab": {
     "base_uri": "https://localhost:8080/",
     "height": 34
    },
    "colab_type": "code",
    "id": "WCbg-GKgxBA3",
    "outputId": "0a02e4c1-1d1f-404d-930b-975a4facc6a6"
   },
   "outputs": [
    {
     "data": {
      "text/plain": [
       "'Name UID on page tab without authentication'"
      ]
     },
     "execution_count": 161,
     "metadata": {},
     "output_type": "execute_result"
    }
   ],
   "source": [
    "train_dataset['Title'][200854]"
   ]
  },
  {
   "cell_type": "markdown",
   "metadata": {
    "colab_type": "text",
    "id": "Qv4v6uBLxBA5"
   },
   "source": [
    "## Stemming, Stopword removal"
   ]
  },
  {
   "cell_type": "markdown",
   "metadata": {
    "colab_type": "text",
    "id": "LlHXJHAl9JrP"
   },
   "source": [
    "We remove the stopwords(words such as: a, about, this, does, during...) because they don't contribute much.\n",
    "Also, we do word stemming, to reduce the words to their base form."
   ]
  },
  {
   "cell_type": "code",
   "execution_count": 162,
   "metadata": {
    "colab": {
     "base_uri": "https://localhost:8080/",
     "height": 51
    },
    "colab_type": "code",
    "id": "Gz9xndgOxBA6",
    "outputId": "c11e825b-a328-4a31-9ab7-f4ae44a1be29"
   },
   "outputs": [],
   "source": [
    "stop_words = set(stopwords.words('english'))"
   ]
  },
  {
   "cell_type": "code",
   "execution_count": 163,
   "metadata": {
    "colab": {},
    "colab_type": "code",
    "id": "8_ezWocAxBA-"
   },
   "outputs": [],
   "source": [
    "def stemming(text):\n",
    "    \"\"\"\n",
    "    Given some text. It will return a list of tokenized words.\n",
    "    Here we do normalization, stemming, removing stopwords.\n",
    "    \"\"\"\n",
    "    \n",
    "    tokens = nltk.word_tokenize(text) # Tokenize the text\n",
    "    tokens = [token for token in tokens if not token in stop_words] #Removing stop words( english)\n",
    "    \n",
    "    #Stemming\n",
    "    eng_stemmer = english_stemmer()\n",
    "    tokens = [eng_stemmer.stem(token) for token in tokens]\n",
    "    sentence = \" \".join(tokens)\n",
    "    return sentence"
   ]
  },
  {
   "cell_type": "code",
   "execution_count": 164,
   "metadata": {
    "colab": {},
    "colab_type": "code",
    "id": "XwQy9g9wBC9L"
   },
   "outputs": [],
   "source": [
    "train_dataset['Body'] = train_dataset['Body'].apply(stemming)"
   ]
  },
  {
   "cell_type": "code",
   "execution_count": 165,
   "metadata": {
    "colab": {},
    "colab_type": "code",
    "id": "Nz3NJRAAxBBC"
   },
   "outputs": [],
   "source": [
    "train_dataset['Title'] = train_dataset['Title'].apply(stemming)"
   ]
  },
  {
   "cell_type": "code",
   "execution_count": 166,
   "metadata": {},
   "outputs": [],
   "source": [
    "file = r\"\\train_dataset_stemming.txt\"\n",
    "outf = open(file,'wb')\n",
    "pickle.dump(train_dataset, outf)\n",
    "outf.close()"
   ]
  },
  {
   "cell_type": "code",
   "execution_count": 168,
   "metadata": {},
   "outputs": [],
   "source": [
    "infile = open(r\"\\train_dataset_stemming.txt\",\"rb\")\n",
    "train_dataset = pickle.load(infile)\n",
    "infile.close()"
   ]
  },
  {
   "cell_type": "code",
   "execution_count": 169,
   "metadata": {
    "colab": {
     "base_uri": "https://localhost:8080/",
     "height": 529
    },
    "colab_type": "code",
    "id": "QzH86_BRxBBJ",
    "outputId": "a0db323d-1077-46a3-e3dc-707acefde612"
   },
   "outputs": [
    {
     "data": {
      "text/html": [
       "<div>\n",
       "<style scoped>\n",
       "    .dataframe tbody tr th:only-of-type {\n",
       "        vertical-align: middle;\n",
       "    }\n",
       "\n",
       "    .dataframe tbody tr th {\n",
       "        vertical-align: top;\n",
       "    }\n",
       "\n",
       "    .dataframe thead th {\n",
       "        text-align: right;\n",
       "    }\n",
       "</style>\n",
       "<table border=\"1\" class=\"dataframe\">\n",
       "  <thead>\n",
       "    <tr style=\"text-align: right;\">\n",
       "      <th></th>\n",
       "      <th>Id</th>\n",
       "      <th>Title</th>\n",
       "      <th>Body</th>\n",
       "      <th>Tags</th>\n",
       "    </tr>\n",
       "  </thead>\n",
       "  <tbody>\n",
       "    <tr>\n",
       "      <td>0</td>\n",
       "      <td>1</td>\n",
       "      <td>how check upload file imag without mime type</td>\n",
       "      <td>id like check upload file imag file e g png jp...</td>\n",
       "      <td>php image-processing file-upload upload mime-t...</td>\n",
       "    </tr>\n",
       "    <tr>\n",
       "      <td>1</td>\n",
       "      <td>2</td>\n",
       "      <td>how i prevent firefox close i press ctrl-w</td>\n",
       "      <td>favorit editor vim regular use ctrl w execut c...</td>\n",
       "      <td>firefox</td>\n",
       "    </tr>\n",
       "    <tr>\n",
       "      <td>2</td>\n",
       "      <td>3</td>\n",
       "      <td>r error invalid type list variabl</td>\n",
       "      <td>import matlab file construct data frame matlab...</td>\n",
       "      <td>r matlab machine-learning</td>\n",
       "    </tr>\n",
       "    <tr>\n",
       "      <td>3</td>\n",
       "      <td>4</td>\n",
       "      <td>how i replac special charact url</td>\n",
       "      <td>probabl simpl simpli find answer basicali want...</td>\n",
       "      <td>c# url encoding</td>\n",
       "    </tr>\n",
       "    <tr>\n",
       "      <td>4</td>\n",
       "      <td>5</td>\n",
       "      <td>how modifi whoi contact detail</td>\n",
       "      <td>use modifi function display warn mesag pleas h...</td>\n",
       "      <td>php api file-get-contents</td>\n",
       "    </tr>\n",
       "  </tbody>\n",
       "</table>\n",
       "</div>"
      ],
      "text/plain": [
       "   Id                                         Title  \\\n",
       "0   1  how check upload file imag without mime type   \n",
       "1   2    how i prevent firefox close i press ctrl-w   \n",
       "2   3             r error invalid type list variabl   \n",
       "3   4              how i replac special charact url   \n",
       "4   5                how modifi whoi contact detail   \n",
       "\n",
       "                                                Body  \\\n",
       "0  id like check upload file imag file e g png jp...   \n",
       "1  favorit editor vim regular use ctrl w execut c...   \n",
       "2  import matlab file construct data frame matlab...   \n",
       "3  probabl simpl simpli find answer basicali want...   \n",
       "4  use modifi function display warn mesag pleas h...   \n",
       "\n",
       "                                                Tags  \n",
       "0  php image-processing file-upload upload mime-t...  \n",
       "1                                            firefox  \n",
       "2                          r matlab machine-learning  \n",
       "3                                    c# url encoding  \n",
       "4                          php api file-get-contents  "
      ]
     },
     "execution_count": 169,
     "metadata": {},
     "output_type": "execute_result"
    }
   ],
   "source": [
    "train_dataset.head(5)"
   ]
  },
  {
   "cell_type": "markdown",
   "metadata": {
    "colab_type": "text",
    "id": "wRFZU574xBBL"
   },
   "source": [
    "In order to give the title more importance in the tf-idf matrix, I repeat the words three times"
   ]
  },
  {
   "cell_type": "code",
   "execution_count": 170,
   "metadata": {
    "colab": {},
    "colab_type": "code",
    "id": "aO9PaZ0KxBBL"
   },
   "outputs": [],
   "source": [
    "train_dataset['Title'] = (train_dataset['Title'] + ' ') * 3"
   ]
  },
  {
   "cell_type": "markdown",
   "metadata": {
    "colab_type": "text",
    "id": "O_DwiUVtxBBQ"
   },
   "source": [
    "I merge the Title and Body columns into the Text column."
   ]
  },
  {
   "cell_type": "code",
   "execution_count": 171,
   "metadata": {
    "colab": {},
    "colab_type": "code",
    "id": "V05V4RKsxBBN"
   },
   "outputs": [],
   "source": [
    "train_dataset['Text'] = train_dataset['Title'] + ' ' + train_dataset['Body']"
   ]
  },
  {
   "cell_type": "code",
   "execution_count": 172,
   "metadata": {
    "colab": {},
    "colab_type": "code",
    "id": "Z_JTT0gzxBBQ"
   },
   "outputs": [],
   "source": [
    "train_dataset = train_dataset.drop(columns=['Title', 'Body'])\n",
    "train_dataset = train_dataset[['Id', 'Text', 'Tags']]"
   ]
  },
  {
   "cell_type": "code",
   "execution_count": 173,
   "metadata": {
    "colab": {
     "base_uri": "https://localhost:8080/",
     "height": 142
    },
    "colab_type": "code",
    "id": "mt92GzGkZNaa",
    "outputId": "75c22212-3386-465b-cdf1-42f09f42cab5"
   },
   "outputs": [
    {
     "data": {
      "text/html": [
       "<div>\n",
       "<style scoped>\n",
       "    .dataframe tbody tr th:only-of-type {\n",
       "        vertical-align: middle;\n",
       "    }\n",
       "\n",
       "    .dataframe tbody tr th {\n",
       "        vertical-align: top;\n",
       "    }\n",
       "\n",
       "    .dataframe thead th {\n",
       "        text-align: right;\n",
       "    }\n",
       "</style>\n",
       "<table border=\"1\" class=\"dataframe\">\n",
       "  <thead>\n",
       "    <tr style=\"text-align: right;\">\n",
       "      <th></th>\n",
       "      <th>Id</th>\n",
       "      <th>Text</th>\n",
       "      <th>Tags</th>\n",
       "    </tr>\n",
       "  </thead>\n",
       "  <tbody>\n",
       "    <tr>\n",
       "      <td>0</td>\n",
       "      <td>1</td>\n",
       "      <td>how check upload file imag without mime type h...</td>\n",
       "      <td>php image-processing file-upload upload mime-t...</td>\n",
       "    </tr>\n",
       "    <tr>\n",
       "      <td>1</td>\n",
       "      <td>2</td>\n",
       "      <td>how i prevent firefox close i press ctrl-w how...</td>\n",
       "      <td>firefox</td>\n",
       "    </tr>\n",
       "    <tr>\n",
       "      <td>2</td>\n",
       "      <td>3</td>\n",
       "      <td>r error invalid type list variabl r error inva...</td>\n",
       "      <td>r matlab machine-learning</td>\n",
       "    </tr>\n",
       "    <tr>\n",
       "      <td>3</td>\n",
       "      <td>4</td>\n",
       "      <td>how i replac special charact url how i replac ...</td>\n",
       "      <td>c# url encoding</td>\n",
       "    </tr>\n",
       "    <tr>\n",
       "      <td>4</td>\n",
       "      <td>5</td>\n",
       "      <td>how modifi whoi contact detail how modifi whoi...</td>\n",
       "      <td>php api file-get-contents</td>\n",
       "    </tr>\n",
       "  </tbody>\n",
       "</table>\n",
       "</div>"
      ],
      "text/plain": [
       "   Id                                               Text  \\\n",
       "0   1  how check upload file imag without mime type h...   \n",
       "1   2  how i prevent firefox close i press ctrl-w how...   \n",
       "2   3  r error invalid type list variabl r error inva...   \n",
       "3   4  how i replac special charact url how i replac ...   \n",
       "4   5  how modifi whoi contact detail how modifi whoi...   \n",
       "\n",
       "                                                Tags  \n",
       "0  php image-processing file-upload upload mime-t...  \n",
       "1                                            firefox  \n",
       "2                          r matlab machine-learning  \n",
       "3                                    c# url encoding  \n",
       "4                          php api file-get-contents  "
      ]
     },
     "execution_count": 173,
     "metadata": {},
     "output_type": "execute_result"
    }
   ],
   "source": [
    "train_dataset.head(5)"
   ]
  },
  {
   "cell_type": "markdown",
   "metadata": {
    "colab_type": "text",
    "id": "gv1mQVaCxBBS"
   },
   "source": [
    "Here, we do the TfIdf of the text column."
   ]
  },
  {
   "cell_type": "code",
   "execution_count": 174,
   "metadata": {
    "colab": {},
    "colab_type": "code",
    "id": "hSr6uBPQxBBT"
   },
   "outputs": [],
   "source": [
    "from sklearn.feature_extraction.text import TfidfVectorizer\n",
    "vectorizer = TfidfVectorizer()"
   ]
  },
  {
   "cell_type": "code",
   "execution_count": 175,
   "metadata": {
    "colab": {},
    "colab_type": "code",
    "id": "7AFDcdBGxBBV"
   },
   "outputs": [],
   "source": [
    "dataset_text = train_dataset['Text']"
   ]
  },
  {
   "cell_type": "code",
   "execution_count": 176,
   "metadata": {
    "colab": {},
    "colab_type": "code",
    "id": "3-qtOaD2xBBW"
   },
   "outputs": [],
   "source": [
    "dataset_text = dataset_text.to_list()"
   ]
  },
  {
   "cell_type": "code",
   "execution_count": 177,
   "metadata": {
    "colab": {
     "base_uri": "https://localhost:8080/",
     "height": 207
    },
    "colab_type": "code",
    "id": "l2wddHGMxBBb",
    "outputId": "a304a18b-8598-4bfd-c4bd-b69ab07572ed"
   },
   "outputs": [
    {
     "data": {
      "text/plain": [
       "['how check upload file imag without mime type how check upload file imag without mime type how check upload file imag without mime type  id like check upload file imag file e g png jpg jpeg gif bmp anoth file problem im use uploadifi upload file chang mime type give text octal someth mime type matter file type upload way check upload file imag apart check file extens use php',\n",
       " 'how i prevent firefox close i press ctrl-w how i prevent firefox close i press ctrl-w how i prevent firefox close i press ctrl-w  favorit editor vim regular use ctrl w execut certain action quit often happen firefox activ window window still look vim think vim activ window press ctrl w close firefox want way stop ctrl w close firefox rene',\n",
       " 'r error invalid type list variabl r error invalid type list variabl r error invalid type list variabl  import matlab file construct data frame matlab file contain two column row maintain cell matrix construct datafram run random forest get follow error code import matlab file construct datafram structur matlab input file load matlab file r',\n",
       " 'how i replac special charact url how i replac special charact url how i replac special charact url  probabl simpl simpli find answer basicali want given string object want output im sure there helper class somewher buri framework take care im troubl find edit add winform app',\n",
       " 'how modifi whoi contact detail how modifi whoi contact detail how modifi whoi contact detail  use modifi function display warn mesag pleas help modifi contact detail',\n",
       " 'set proxi activ directori environ set proxi activ directori environ set proxi activ directori environ  use machin activ directori configur develop applic machin want perform test applic use jmeter start jmeter proxi server set browser tri brows applic get error internet explor display webpag miss anyth',\n",
       " 'how draw barplot way coreplot how draw barplot way coreplot how draw barplot way coreplot  imag post link pictur want draw chart like imag io app use coreplot help make question draw barplot whit kind color draw barplot cptxyaxi upsid way help would appreci thank',\n",
       " 'how fetch xml feed use asp net how fetch xml feed use asp net how fetch xml feed use asp net  ive decid convert window phone app fetch xml feed pars asp net web app use visual web develop express figur sinc code alreadi work wp matter most copi past c code behind that first line code wp app fetch xml feed cant even get httpwebrequest work visual web develop like intellisens show creat createdefault createhttp like window phone need figur fetch page assum pars phone app help thank amanda',\n",
       " 'net librari generat javascript net librari generat javascript net librari generat javascript  know net librari generat javascript code want generat javascript code base inform net applic would like abl creat ast like datastructur use c turn valid javascript need abl creat function statement express etc need someth json serial guess could think general json serial librari exist could recommend thank',\n",
       " 'sql server : procedur call inlin concaten imposs sql server : procedur call inlin concaten imposs sql server : procedur call inlin concaten imposs  im use sql server r wonder anoth way write someth like procedur call actual work without put whole stuff variabl first']"
      ]
     },
     "execution_count": 177,
     "metadata": {},
     "output_type": "execute_result"
    }
   ],
   "source": [
    "dataset_text[:10]"
   ]
  },
  {
   "cell_type": "code",
   "execution_count": 178,
   "metadata": {
    "colab": {},
    "colab_type": "code",
    "id": "QYPbHgnHxBBe"
   },
   "outputs": [],
   "source": [
    "x_train = vectorizer.fit_transform(dataset_text)"
   ]
  },
  {
   "cell_type": "code",
   "execution_count": 179,
   "metadata": {
    "colab": {
     "base_uri": "https://localhost:8080/",
     "height": 51
    },
    "colab_type": "code",
    "id": "K2ADheDrxBBt",
    "outputId": "ff4c71ad-b198-45ea-9ba3-146fd57a23a0"
   },
   "outputs": [
    {
     "data": {
      "text/plain": [
       "<4154374x1043575 sparse matrix of type '<class 'numpy.float64'>'\n",
       "\twith 149222356 stored elements in Compressed Sparse Row format>"
      ]
     },
     "execution_count": 179,
     "metadata": {},
     "output_type": "execute_result"
    }
   ],
   "source": [
    "x_train"
   ]
  },
  {
   "cell_type": "markdown",
   "metadata": {
    "colab_type": "text",
    "id": "DkNnO0kxxBBx"
   },
   "source": [
    "## Training"
   ]
  },
  {
   "cell_type": "markdown",
   "metadata": {
    "colab_type": "text",
    "id": "m6UqNu1SxBBx"
   },
   "source": [
    "Here I divide the tfidf matrix into train set and test set."
   ]
  },
  {
   "cell_type": "code",
   "execution_count": 180,
   "metadata": {
    "colab": {},
    "colab_type": "code",
    "id": "1ZddmGppxBDP"
   },
   "outputs": [],
   "source": [
    "from sklearn.linear_model import LogisticRegression\n",
    "from sklearn.pipeline import Pipeline\n",
    "import sklearn.metrics as metrics\n",
    "from sklearn.metrics import accuracy_score\n",
    "from sklearn.multiclass import OneVsRestClassifier\n",
    "from sklearn.linear_model import SGDClassifier\n",
    "from sklearn.svm import SVC\n",
    "from sklearn.feature_extraction.text import CountVectorizer\n",
    "from scipy.sparse import csr_matrix, hstack"
   ]
  },
  {
   "cell_type": "code",
   "execution_count": 181,
   "metadata": {
    "colab": {},
    "colab_type": "code",
    "id": "APdX4i9mxBBy"
   },
   "outputs": [],
   "source": [
    "train_set, test_set = train_test_split(x_train, random_state=42, test_size=0.2, shuffle=False)"
   ]
  },
  {
   "cell_type": "code",
   "execution_count": 182,
   "metadata": {
    "colab": {
     "base_uri": "https://localhost:8080/",
     "height": 51
    },
    "colab_type": "code",
    "id": "p5-Kf0aixBB4",
    "outputId": "e512e2c9-0003-418b-f058-cfcefc9a16af"
   },
   "outputs": [
    {
     "data": {
      "text/plain": [
       "<3323499x1043575 sparse matrix of type '<class 'numpy.float64'>'\n",
       "\twith 119508791 stored elements in Compressed Sparse Row format>"
      ]
     },
     "execution_count": 182,
     "metadata": {},
     "output_type": "execute_result"
    }
   ],
   "source": [
    "train_set"
   ]
  },
  {
   "cell_type": "code",
   "execution_count": 183,
   "metadata": {
    "colab": {
     "base_uri": "https://localhost:8080/",
     "height": 51
    },
    "colab_type": "code",
    "id": "IpaaZMIuxBB8",
    "outputId": "cff83bda-d7f7-44e0-bc0a-9407285fc162"
   },
   "outputs": [
    {
     "data": {
      "text/plain": [
       "<830875x1043575 sparse matrix of type '<class 'numpy.float64'>'\n",
       "\twith 29713565 stored elements in Compressed Sparse Row format>"
      ]
     },
     "execution_count": 183,
     "metadata": {},
     "output_type": "execute_result"
    }
   ],
   "source": [
    "test_set"
   ]
  },
  {
   "cell_type": "markdown",
   "metadata": {
    "colab_type": "text",
    "id": "93vfa0SKxBCH"
   },
   "source": [
    "Labels of train set and test set"
   ]
  },
  {
   "cell_type": "code",
   "execution_count": 184,
   "metadata": {
    "colab": {},
    "colab_type": "code",
    "id": "o84hJkMnxBCH"
   },
   "outputs": [],
   "source": [
    "train_set_labels, test_set_labels = train_test_split(train_dataset['Tags'], random_state=42, test_size=0.2, shuffle=False)"
   ]
  },
  {
   "cell_type": "code",
   "execution_count": 185,
   "metadata": {
    "colab": {},
    "colab_type": "code",
    "id": "86PWz8I8xBC2"
   },
   "outputs": [],
   "source": [
    "del train_dataset"
   ]
  },
  {
   "cell_type": "code",
   "execution_count": 186,
   "metadata": {
    "colab": {
     "base_uri": "https://localhost:8080/",
     "height": 34
    },
    "colab_type": "code",
    "id": "Kizn86hMxBC4",
    "outputId": "eac19843-0e3e-4cf2-c32d-a473dad9eb13"
   },
   "outputs": [
    {
     "data": {
      "text/plain": [
       "(3323499,)"
      ]
     },
     "execution_count": 186,
     "metadata": {},
     "output_type": "execute_result"
    }
   ],
   "source": [
    "train_set_labels.shape"
   ]
  },
  {
   "cell_type": "code",
   "execution_count": 187,
   "metadata": {
    "colab": {
     "base_uri": "https://localhost:8080/",
     "height": 34
    },
    "colab_type": "code",
    "id": "MVvshStyxBC5",
    "outputId": "33149d4c-4b67-42bc-efbb-801a184bc6d1"
   },
   "outputs": [
    {
     "data": {
      "text/plain": [
       "(830875,)"
      ]
     },
     "execution_count": 187,
     "metadata": {},
     "output_type": "execute_result"
    }
   ],
   "source": [
    "test_set_labels.shape"
   ]
  },
  {
   "cell_type": "code",
   "execution_count": 188,
   "metadata": {
    "colab": {},
    "colab_type": "code",
    "id": "NeM1K3ZExBC9"
   },
   "outputs": [],
   "source": [
    "y_train = train_set_labels.to_list()\n",
    "y_test = test_set_labels.to_list()"
   ]
  },
  {
   "cell_type": "code",
   "execution_count": 189,
   "metadata": {
    "colab": {
     "base_uri": "https://localhost:8080/",
     "height": 187
    },
    "colab_type": "code",
    "id": "xjCJFjavxBC_",
    "outputId": "cb13f06e-b0f2-4f61-f9b8-c2bb7d4ad5b5"
   },
   "outputs": [
    {
     "data": {
      "text/plain": [
       "['php image-processing file-upload upload mime-types',\n",
       " 'firefox',\n",
       " 'r matlab machine-learning',\n",
       " 'c# url encoding',\n",
       " 'php api file-get-contents']"
      ]
     },
     "execution_count": 189,
     "metadata": {},
     "output_type": "execute_result"
    }
   ],
   "source": [
    "y_train[0:5]"
   ]
  },
  {
   "cell_type": "markdown",
   "metadata": {
    "colab_type": "text",
    "id": "Pgn7eXhxxBDB"
   },
   "source": [
    "We got the labels as list of strings, we have to convert them as list of lists, where each element in the inner list is a label(tag)."
   ]
  },
  {
   "cell_type": "code",
   "execution_count": 190,
   "metadata": {
    "colab": {},
    "colab_type": "code",
    "id": "Z4GnZddFxBDB"
   },
   "outputs": [],
   "source": [
    "y_train = [y_train[i].split(\" \") for i in range(0, len(y_train))]"
   ]
  },
  {
   "cell_type": "code",
   "execution_count": 196,
   "metadata": {
    "colab": {
     "base_uri": "https://localhost:8080/",
     "height": 187
    },
    "colab_type": "code",
    "id": "SrzapycfxBDD",
    "outputId": "081aecce-6d11-4fa7-e6a7-7b0b1ed20574"
   },
   "outputs": [
    {
     "data": {
      "text/plain": [
       "[['php', 'image-processing', 'file-upload', 'upload', 'mime-types'],\n",
       " ['firefox'],\n",
       " ['r', 'matlab', 'machine-learning'],\n",
       " ['c#', 'url', 'encoding'],\n",
       " ['php', 'api', 'file-get-contents']]"
      ]
     },
     "execution_count": 196,
     "metadata": {},
     "output_type": "execute_result"
    }
   ],
   "source": [
    "y_train[:5]"
   ]
  },
  {
   "cell_type": "code",
   "execution_count": 106,
   "metadata": {
    "colab": {},
    "colab_type": "code",
    "id": "yRowDI56xBDE"
   },
   "outputs": [],
   "source": [
    "y_test = [y_test[i].split(\" \") for i in range(0, len(y_test))]"
   ]
  },
  {
   "cell_type": "code",
   "execution_count": 107,
   "metadata": {
    "colab": {
     "base_uri": "https://localhost:8080/",
     "height": 34
    },
    "colab_type": "code",
    "id": "C3MRgxWLxBDF",
    "outputId": "1976ff30-23dd-4525-f992-ba78272018be"
   },
   "outputs": [
    {
     "data": {
      "text/plain": [
       "830875"
      ]
     },
     "execution_count": 107,
     "metadata": {},
     "output_type": "execute_result"
    }
   ],
   "source": [
    "len(y_test)"
   ]
  },
  {
   "cell_type": "code",
   "execution_count": 192,
   "metadata": {
    "colab": {
     "base_uri": "https://localhost:8080/",
     "height": 102
    },
    "colab_type": "code",
    "id": "XQ2ywKY7xBDH",
    "outputId": "6fd7829a-6cc1-4b8f-873c-a0aaefc53e03"
   },
   "outputs": [
    {
     "data": {
      "text/plain": [
       "['xcode compilation objective-c++',\n",
       " 'java android youtube youtube-api',\n",
       " 'wpf binding mvvm',\n",
       " 'colors pdf-reader',\n",
       " 'delphi compiler']"
      ]
     },
     "execution_count": 192,
     "metadata": {},
     "output_type": "execute_result"
    }
   ],
   "source": [
    "y_test[:5]"
   ]
  },
  {
   "cell_type": "markdown",
   "metadata": {},
   "source": [
    "I'm going to do training with 1000 labels at a time. So in the most_most_common_sample, I read the 6000 labels in chunks of 1000 labels."
   ]
  },
  {
   "cell_type": "code",
   "execution_count": 115,
   "metadata": {},
   "outputs": [],
   "source": [
    "def chunks_most_common(l, n):\n",
    "    \"\"\"Get the next 1000 tags from the most common tags, and return them.\"\"\"\n",
    "    return (l[i:i+n] for i in range(0, len(l), n))"
   ]
  },
  {
   "cell_type": "code",
   "execution_count": 116,
   "metadata": {},
   "outputs": [],
   "source": [
    "def next_y_samples(chunks_of_tags, y):\n",
    "    \"\"\"Checks if the tags on each sublist of the y are on the most_common_sample.\n",
    "       If they are, return them in a list.\"\"\"\n",
    "    \n",
    "    y_sample = [[row[i] for i in range(0, len(row)) if row[i] in chunks_of_tags] for row in y]\n",
    "    return y_sample"
   ]
  },
  {
   "cell_type": "code",
   "execution_count": 58,
   "metadata": {},
   "outputs": [],
   "source": [
    "import datetime\n",
    "\n",
    "def training(train_set, y_train, most_common_tags, n, file_path):\n",
    "    pattern = '[a-zA-Z0-9$&+,:;=?@#|<>.^*()%!-]+'\n",
    "    vectorizer = CountVectorizer(token_pattern=pattern)\n",
    "    file_index = 1000\n",
    "    for chunk in chunks_most_common(most_common_tags, n):\n",
    "        y_train_sample = next_y_samples(chunk, y_train)\n",
    "        tokenized_list = [' '.join(inner_list) for inner_list in y_train_sample]\n",
    "        y_tr = vectorizer.fit_transform(tokenized_list)\n",
    "        print(\"y_tr done at: \", datetime.datetime.now().time())\n",
    "        ovr_clf = OneVsRestClassifier(SGDClassifier(loss='log'), n_jobs=-1)\n",
    "        ovr_clf.fit(train_set, y_tr)\n",
    "        print(\"ovr_clf.fit done at: \", datetime.datetime.now().time())\n",
    "        outf = open(file_path + 'ovr_clf_' + str(file_index), 'wb')\n",
    "        pickle.dump(ovr_clf, outf)\n",
    "        print(\"dump done at: \", datetime.datetime.now().time())\n",
    "        file_index += 1000\n",
    "        outf.close()"
   ]
  },
  {
   "cell_type": "markdown",
   "metadata": {
    "colab_type": "text",
    "id": "AXOH2QZhxBDR"
   },
   "source": [
    "I train the model using OneVsRestClassifier, 1000 labels at a time(because training the model with all 6000 labels at the same time was taking way too much time)."
   ]
  },
  {
   "cell_type": "code",
   "execution_count": 59,
   "metadata": {},
   "outputs": [
    {
     "name": "stdout",
     "output_type": "stream",
     "text": [
      "y_tr done at:  11:32:41.044081\n",
      "ovr_clf.fit done at:  12:30:15.197907\n",
      "dump done at:  12:45:58.333900\n",
      "y_tr done at:  12:55:15.595105\n",
      "ovr_clf.fit done at:  13:51:45.465665\n",
      "dump done at:  14:05:39.457322\n",
      "y_tr done at:  14:13:29.637288\n",
      "ovr_clf.fit done at:  15:09:48.684103\n",
      "dump done at:  15:23:22.448306\n",
      "y_tr done at:  15:31:17.384098\n",
      "ovr_clf.fit done at:  16:27:41.594551\n",
      "dump done at:  16:43:42.930662\n",
      "y_tr done at:  16:52:31.789133\n",
      "ovr_clf.fit done at:  17:49:51.041468\n",
      "dump done at:  18:05:49.558325\n",
      "y_tr done at:  18:14:14.916918\n",
      "ovr_clf.fit done at:  19:10:26.994795\n",
      "dump done at:  19:23:47.343035\n"
     ]
    }
   ],
   "source": [
    "training(train_set, y_train, most_common_tags, 1000, '\\\\')"
   ]
  },
  {
   "cell_type": "markdown",
   "metadata": {
    "colab_type": "text",
    "id": "aYIikBrixBDY"
   },
   "source": [
    "I save these training files into disk. In total, there are 6 files, 8GB each."
   ]
  },
  {
   "cell_type": "markdown",
   "metadata": {
    "colab_type": "text",
    "id": "kxQ-KL7_xBDc"
   },
   "source": [
    "Below, we do the predictions on the test set.\n",
    "For every sample, if the probability of a label is less than 20%, make it zero otherwise keep its value. This makes most labels zero, except few of them will keep their value.\n",
    "We convert the predictions ndarray to csr_matrix, since most of the elements are zero, it will be much better to save it in a sparse matrix.\n",
    "We dump the predictions using pickle.\n",
    "This will give us 6 predictions in csr format."
   ]
  },
  {
   "cell_type": "code",
   "execution_count": 11,
   "metadata": {},
   "outputs": [],
   "source": [
    "from scipy import sparse"
   ]
  },
  {
   "cell_type": "code",
   "execution_count": 45,
   "metadata": {},
   "outputs": [],
   "source": [
    "import datetime\n",
    "\n",
    "def predictions(test_set, number_of_files, files_to_read, files_to_write):\n",
    "    file_index = 1000\n",
    "    for i in range(number_of_files):\n",
    "        infile = open(files_to_read + str(file_index), \"rb\")\n",
    "        ovr_clf = pickle.load(infile)\n",
    "        predictions = ovr_clf.predict_proba(test_set)\n",
    "        predictions = (predictions >= 0.2) * predictions\n",
    "        predictions_csr = sparse.csr_matrix(predictions)\n",
    "        outf = open(files_to_write+str(file_index), 'wb')\n",
    "        pickle.dump(predictions_csr, outf)\n",
    "        print(\"prediction {} done at:{} \".format(i+1, datetime.datetime.now().time()))\n",
    "        file_index += 1000\n",
    "        infile.close()\n",
    "        outf.close()"
   ]
  },
  {
   "cell_type": "code",
   "execution_count": 46,
   "metadata": {
    "colab": {},
    "colab_type": "code",
    "id": "pO3ETXU9xBDp"
   },
   "outputs": [
    {
     "name": "stdout",
     "output_type": "stream",
     "text": [
      "prediction 1 done at:13:12:18.375606 \n",
      "prediction 2 done at:13:49:55.381849 \n",
      "prediction 3 done at:14:28:09.173800 \n",
      "prediction 4 done at:15:07:57.608070 \n",
      "prediction 5 done at:15:45:57.765528 \n",
      "prediction 6 done at:16:27:21.360085 \n"
     ]
    }
   ],
   "source": [
    "predictions(test_set, 6, r\"\\ovr_clf_\", r\"\\predictions_csr_\")"
   ]
  },
  {
   "cell_type": "code",
   "execution_count": 47,
   "metadata": {
    "colab": {},
    "colab_type": "code",
    "id": "ZDAQJqApxBDy"
   },
   "outputs": [],
   "source": [
    "from scipy.sparse import csr_matrix, hstack"
   ]
  },
  {
   "cell_type": "markdown",
   "metadata": {},
   "source": [
    "Stack the matrices horizontally. We will get a matrix with 6000 columns(which is the number of labels)."
   ]
  },
  {
   "cell_type": "code",
   "execution_count": 85,
   "metadata": {},
   "outputs": [],
   "source": [
    "def stack_matrices_horizontally(number_of_files, files_to_read, file_to_write):\n",
    "    file_index = 1000\n",
    "    infile = open(files_to_read + str(file_index), \"rb\")\n",
    "    final_predictions = pickle.load(infile)\n",
    "\n",
    "    for i in range(number_of_files):\n",
    "        file_index += 1000\n",
    "        infile = open(files_to_read + str(file_index), \"rb\")\n",
    "        next_predictions = pickle.load(infile)\n",
    "        final_predictions = hstack([final_predictions, next_predictions])\n",
    "        infile.close()\n",
    "        \n",
    "    final_predictions = final_predictions.tocsr()\n",
    "    outfile = open(file_to_write, \"wb\")\n",
    "    pickle.dump(final_predictions, outfile)\n",
    "    outfile.close()"
   ]
  },
  {
   "cell_type": "code",
   "execution_count": 86,
   "metadata": {
    "colab": {},
    "colab_type": "code",
    "id": "rOsPJFzDxBD2"
   },
   "outputs": [],
   "source": [
    "stack_matrices_horizontally(5, r\"\\predictions_csr_\", r\"\\final_predictions_matrix\")"
   ]
  },
  {
   "cell_type": "code",
   "execution_count": 21,
   "metadata": {
    "colab": {},
    "colab_type": "code",
    "id": "BP_5piK_xBD6"
   },
   "outputs": [],
   "source": [
    "file = r\"\\final_predictions_matrix\"\n",
    "infile = open(file, \"rb\")\n",
    "final_predictions = pickle.load(infile)\n",
    "infile.close()"
   ]
  },
  {
   "cell_type": "code",
   "execution_count": 22,
   "metadata": {
    "colab": {},
    "colab_type": "code",
    "id": "wbTkJRXFxBD8",
    "outputId": "7a500537-26b5-42aa-fba6-20057d3b3526"
   },
   "outputs": [
    {
     "data": {
      "text/plain": [
       "<830875x6000 sparse matrix of type '<class 'numpy.float64'>'\n",
       "\twith 503309 stored elements in Compressed Sparse Row format>"
      ]
     },
     "execution_count": 22,
     "metadata": {},
     "output_type": "execute_result"
    }
   ],
   "source": [
    "final_predictions"
   ]
  },
  {
   "cell_type": "code",
   "execution_count": 23,
   "metadata": {
    "colab": {},
    "colab_type": "code",
    "id": "yyVE16iMxBEK"
   },
   "outputs": [],
   "source": [
    "final_predictions_lil = final_predictions.tolil()"
   ]
  },
  {
   "cell_type": "code",
   "execution_count": 25,
   "metadata": {},
   "outputs": [],
   "source": [
    "for i in range(0, final_predictions_lil.shape[0]):\n",
    "    if (final_predictions_lil[i].count_nonzero()) > 5:\n",
    "        sorted_values = -np.sort(-final_predictions_lil[i].toarray().flatten())\n",
    "        sorted_values = sorted_values[0:5]\n",
    "        \n",
    "        for j in range(0, final_predictions_lil.shape[1]):\n",
    "            if final_predictions_lil[i, j] not in sorted_values:\n",
    "                final_predictions_lil[i, j] = 0"
   ]
  },
  {
   "cell_type": "code",
   "execution_count": 26,
   "metadata": {},
   "outputs": [
    {
     "data": {
      "text/plain": [
       "<830875x6000 sparse matrix of type '<class 'numpy.float64'>'\n",
       "\twith 503275 stored elements in LInked List format>"
      ]
     },
     "execution_count": 26,
     "metadata": {},
     "output_type": "execute_result"
    }
   ],
   "source": [
    "final_predictions_lil"
   ]
  },
  {
   "cell_type": "code",
   "execution_count": 27,
   "metadata": {},
   "outputs": [],
   "source": [
    "final_predictions_coo = sparse.coo_matrix(final_predictions_lil)"
   ]
  },
  {
   "cell_type": "code",
   "execution_count": 28,
   "metadata": {},
   "outputs": [],
   "source": [
    "for i, j, v in zip(final_predictions_coo.row, final_predictions_coo.col, final_predictions_coo.data):\n",
    "    if v > 0:\n",
    "        final_predictions_lil[i, j] = 1"
   ]
  },
  {
   "cell_type": "code",
   "execution_count": 71,
   "metadata": {
    "colab": {},
    "colab_type": "code",
    "id": "Yzce_4NdxBEP"
   },
   "outputs": [],
   "source": [
    "file = r\"\\final_predictions_lil\"\n",
    "outf = open(file,'wb')\n",
    "pickle.dump(final_predictions_lil, outf)\n",
    "outf.close()"
   ]
  },
  {
   "cell_type": "code",
   "execution_count": 72,
   "metadata": {
    "colab": {},
    "colab_type": "code",
    "id": "OQ2HGlePxBEQ"
   },
   "outputs": [],
   "source": [
    "file = r\"\\final_predictions_lil\"\n",
    "infile = open(file, \"rb\")\n",
    "final_predictions_lil = pickle.load(infile)\n",
    "infile.close()"
   ]
  },
  {
   "cell_type": "code",
   "execution_count": 73,
   "metadata": {
    "colab": {},
    "colab_type": "code",
    "id": "tYGUUy2TxBER",
    "outputId": "0c69fb82-3651-4d39-8fc3-2c850e9ca8ff"
   },
   "outputs": [
    {
     "data": {
      "text/plain": [
       "(array([   905,   1679,   2025, ..., 815102, 818428, 829213], dtype=int32),\n",
       " array([  0,   0,   0, ..., 998, 998, 998], dtype=int32),\n",
       " array([1., 1., 1., ..., 1., 1., 1.]))"
      ]
     },
     "execution_count": 73,
     "metadata": {},
     "output_type": "execute_result"
    }
   ],
   "source": [
    "from scipy.sparse import csr_matrix, find\n",
    "find(final_predictions_lil)"
   ]
  },
  {
   "cell_type": "code",
   "execution_count": 74,
   "metadata": {
    "colab": {},
    "colab_type": "code",
    "id": "hihmvKlfxBEU",
    "outputId": "444df5b3-64ef-4a49-fb13-95ccbcd5b6d8"
   },
   "outputs": [
    {
     "data": {
      "text/plain": [
       "<830875x6000 sparse matrix of type '<class 'numpy.float64'>'\n",
       "\twith 503275 stored elements in LInked List format>"
      ]
     },
     "execution_count": 74,
     "metadata": {},
     "output_type": "execute_result"
    }
   ],
   "source": [
    "final_predictions_lil"
   ]
  },
  {
   "cell_type": "code",
   "execution_count": 140,
   "metadata": {},
   "outputs": [],
   "source": [
    "def get_features(n):\n",
    "    feature_names = []\n",
    "    index = 1000\n",
    "    pattern = '[a-zA-Z0-9$&+,:;=?@#|<>.^*()%!-]+'\n",
    "    vectorizer = CountVectorizer(token_pattern=pattern)\n",
    "    \n",
    "    for chunk in chunks_most_common(most_common_tags, n):\n",
    "        y_t_s = next_y_samples(chunk, y_train)\n",
    "        tokenized_list = [' '.join(inner_list) for inner_list in y_t_s]\n",
    "        y_t = vectorizer.fit_transform(tokenized_list)\n",
    "        feature_names.extend(vectorizer.get_feature_names())\n",
    "        index += 1000\n",
    "    return feature_names"
   ]
  },
  {
   "cell_type": "code",
   "execution_count": 144,
   "metadata": {},
   "outputs": [],
   "source": [
    "feature_names = get_features(1000)"
   ]
  },
  {
   "cell_type": "code",
   "execution_count": 193,
   "metadata": {
    "colab": {},
    "colab_type": "code",
    "id": "zryhles3xBEY"
   },
   "outputs": [],
   "source": [
    "pattern = '[a-zA-Z0-9$&+,:;=?@#|<>.^*()%!-]+'\n",
    "vectorizer2 = CountVectorizer(vocabulary=feature_names)\n",
    "tokenized_list = [' '.join(inner_list) for inner_list in y_test]\n",
    "y_ts = vectorizer2.fit_transform(y_test)"
   ]
  },
  {
   "cell_type": "code",
   "execution_count": 194,
   "metadata": {
    "colab": {},
    "colab_type": "code",
    "id": "2fwkbnBSxBEY"
   },
   "outputs": [],
   "source": [
    "file = r\"\\y_ts\"\n",
    "outf = open(file,'wb')\n",
    "pickle.dump(y_ts, outf)\n",
    "outf.close()"
   ]
  },
  {
   "cell_type": "code",
   "execution_count": 195,
   "metadata": {
    "colab": {},
    "colab_type": "code",
    "id": "T-ccIE_FxBEb"
   },
   "outputs": [],
   "source": [
    "file = r\"\\y_ts\"\n",
    "infile = open(file, \"rb\")\n",
    "y_ts = pickle.load(infile)\n",
    "infile.close()"
   ]
  },
  {
   "cell_type": "code",
   "execution_count": 197,
   "metadata": {
    "colab": {},
    "colab_type": "code",
    "id": "NPIcA1nbxBEc",
    "outputId": "affe8458-9c93-47a5-a616-db2880f933ea"
   },
   "outputs": [
    {
     "data": {
      "text/plain": [
       "(array([   386,   1182,   1213, ..., 684133, 760387, 825947]),\n",
       " array([   5,    5,    5, ..., 5999, 5999, 5999]),\n",
       " array([1, 1, 1, ..., 1, 1, 1], dtype=int64))"
      ]
     },
     "execution_count": 197,
     "metadata": {},
     "output_type": "execute_result"
    }
   ],
   "source": [
    "find(y_ts)"
   ]
  },
  {
   "cell_type": "code",
   "execution_count": 198,
   "metadata": {
    "colab": {},
    "colab_type": "code",
    "id": "vQ1fcCM3xBEd",
    "outputId": "0a739920-b7d2-46d1-b4f4-bebb01091138"
   },
   "outputs": [
    {
     "data": {
      "text/plain": [
       "(array([   905,   1679,   2025, ..., 815102, 818428, 829213], dtype=int32),\n",
       " array([  0,   0,   0, ..., 998, 998, 998], dtype=int32),\n",
       " array([1., 1., 1., ..., 1., 1., 1.]))"
      ]
     },
     "execution_count": 198,
     "metadata": {},
     "output_type": "execute_result"
    }
   ],
   "source": [
    "find(final_predictions_lil)"
   ]
  },
  {
   "cell_type": "code",
   "execution_count": 229,
   "metadata": {},
   "outputs": [
    {
     "name": "stdout",
     "output_type": "stream",
     "text": [
      "The model found: 14.30 % of the correct tags.\n"
     ]
    }
   ],
   "source": [
    "non_zeros = y_ts.count_nonzero()\n",
    "true_labels = y_ts.tocoo()\n",
    "\n",
    "count = 0\n",
    "for i, j in zip(true_labels.row, true_labels.col):\n",
    "    if final_predictions_lil[i, j] == 1:\n",
    "        count += 1\n",
    "\n",
    "accuracy = count / non_zeros\n",
    "print(\"The model found: {:.2f} % of the correct tags.\".format(accuracy * 100))"
   ]
  }
 ],
 "metadata": {
  "accelerator": "GPU",
  "colab": {
   "collapsed_sections": [],
   "machine_shape": "hm",
   "name": "keyword_extraction_stackoverflow.ipynb",
   "provenance": []
  },
  "kernelspec": {
   "display_name": "Python 3",
   "language": "python",
   "name": "python3"
  },
  "language_info": {
   "codemirror_mode": {
    "name": "ipython",
    "version": 3
   },
   "file_extension": ".py",
   "mimetype": "text/x-python",
   "name": "python",
   "nbconvert_exporter": "python",
   "pygments_lexer": "ipython3",
   "version": "3.7.4"
  }
 },
 "nbformat": 4,
 "nbformat_minor": 4
}
